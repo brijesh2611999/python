{
 "cells": [
  {
   "cell_type": "markdown",
   "id": "0065c7d4",
   "metadata": {},
   "source": [
    "# list\n",
    "- list is a datatype.\n",
    "- Array -> homogenious collection -> same datatype items. ex- a[5] = {1,2,3,4,5}\n",
    "- list -> hetrogenious collection -> it can be same or different.\n",
    "- l1 = [1,2,3,4,5]\n",
    "- l2 = [1,\"Ram\",2.4,3+5j]"
   ]
  },
  {
   "cell_type": "code",
   "execution_count": 10,
   "id": "ad879c79",
   "metadata": {},
   "outputs": [
    {
     "name": "stdout",
     "output_type": "stream",
     "text": [
      "[1, 2, 3, 4, 6]\n",
      "2672461334336\n"
     ]
    }
   ],
   "source": [
    "# create list\n",
    "l1 = [1,2,3,4,6]\n",
    "print(l1)\n",
    "print(id(l1))"
   ]
  },
  {
   "cell_type": "code",
   "execution_count": 9,
   "id": "cbb1e6f6",
   "metadata": {},
   "outputs": [
    {
     "name": "stdout",
     "output_type": "stream",
     "text": [
      "[1, 2, 3, [4, 5]]\n",
      "1\n",
      "[4, 5]\n",
      "4\n"
     ]
    }
   ],
   "source": [
    "l2 = [1,2,3,[4,5]]\n",
    "print(l2)\n",
    "print(l2[0])\n",
    "print(l2[3])\n",
    "print(l2[3][0])"
   ]
  },
  {
   "cell_type": "code",
   "execution_count": 4,
   "id": "2d624fd3",
   "metadata": {},
   "outputs": [
    {
     "name": "stdout",
     "output_type": "stream",
     "text": [
      "['i', 'n', 'd', 'i', 'a']\n",
      "d\n",
      "['1', '2', '3', '4']\n",
      "<class 'list'>\n",
      "<class 'str'>\n"
     ]
    }
   ],
   "source": [
    "l3 = list(\"india\")\n",
    "print(l3)\n",
    "print(l3[2])\n",
    "l4 = list(\"1234\")\n",
    "print(l4)\n",
    "print(type(l4))\n",
    "print(type(l4[0]))"
   ]
  },
  {
   "cell_type": "code",
   "execution_count": 24,
   "id": "edf1a0e1",
   "metadata": {},
   "outputs": [
    {
     "name": "stdout",
     "output_type": "stream",
     "text": [
      "['i', 'n']\n",
      "['a', 'i', 'd', 'n', 'i']\n"
     ]
    }
   ],
   "source": [
    "print(l3[0:2])\n",
    "print(l3[::-1])"
   ]
  },
  {
   "cell_type": "markdown",
   "id": "a6fe00b5",
   "metadata": {},
   "source": [
    "# Edit\n",
    "- add item in list\n",
    "- append\n",
    "- extend\n",
    "- insert"
   ]
  },
  {
   "cell_type": "code",
   "execution_count": 41,
   "id": "95237da2",
   "metadata": {},
   "outputs": [
    {
     "name": "stdout",
     "output_type": "stream",
     "text": [
      "[1, 2, 3, 4, 5]\n",
      "[1, 2, 3, 4, 5, 100]\n",
      "[1, 2, 3, 4, 5, 100, 200, 300, 400]\n",
      "[10, 1, 2, 3, 4, 5, 100, 200, 300, 400]\n"
     ]
    }
   ],
   "source": [
    "l = [1,2,3,4,5]\n",
    "print(l)\n",
    "l.append(100)    # append put only one item in the end of the list\n",
    "print(l)\n",
    "l.extend([200,300,400])   # extend put more then one item in the end of the list\n",
    "print(l)\n",
    "l.insert(0,10)   # insert func take only two arguments position and element.\n",
    "print(l)"
   ]
  },
  {
   "cell_type": "markdown",
   "id": "a116b13a",
   "metadata": {},
   "source": [
    "# delete\n",
    "- del\n",
    "- remove\n",
    "- pop\n",
    "- clear"
   ]
  },
  {
   "cell_type": "code",
   "execution_count": 47,
   "id": "63432653",
   "metadata": {},
   "outputs": [
    {
     "name": "stdout",
     "output_type": "stream",
     "text": [
      "[1, 2, 3, 4, 5]\n",
      "[2, 3, 4]\n",
      "[]\n"
     ]
    }
   ],
   "source": [
    "l = [1,2,3,4,5]\n",
    "print(l)\n",
    "del l[0]\n",
    "del l[-1]\n",
    "print(l)\n",
    "del l[0:3]\n",
    "print(l)"
   ]
  },
  {
   "cell_type": "code",
   "execution_count": 59,
   "id": "6a127e0f",
   "metadata": {},
   "outputs": [
    {
     "name": "stdout",
     "output_type": "stream",
     "text": [
      "[1, 2, 3, 4, 'parsuram', 5, 6, 7, 8]\n",
      "[1, 2, 3, 4, 5, 6, 7, 8]\n",
      "[2, 3, 4, 5, 6, 7, 8]\n"
     ]
    }
   ],
   "source": [
    "l = [1,2,3,4,\"parsuram\",5,6,7,8]\n",
    "print(l)\n",
    "l.remove(\"parsuram\")\n",
    "print(l)\n",
    "l.remove(1)  # remove take only one argument.\n",
    "print(l)"
   ]
  },
  {
   "cell_type": "code",
   "execution_count": 60,
   "id": "e281c4d7",
   "metadata": {},
   "outputs": [
    {
     "name": "stdout",
     "output_type": "stream",
     "text": [
      "[1, 2, 3, 4, 'parsuram', 5, 6, 7, 8]\n",
      "[1, 2, 3, 4, 'parsuram', 5, 6, 7]\n"
     ]
    }
   ],
   "source": [
    "l = [1,2,3,4,\"parsuram\",5,6,7,8]\n",
    "print(l)\n",
    "l.pop()   # delete the last element.\n",
    "print(l)"
   ]
  },
  {
   "cell_type": "code",
   "execution_count": 61,
   "id": "5e1beb0d",
   "metadata": {},
   "outputs": [
    {
     "name": "stdout",
     "output_type": "stream",
     "text": [
      "[1, 2, 3, 4, 'parsuram', 5, 6, 7, 8]\n",
      "[]\n"
     ]
    }
   ],
   "source": [
    "l = [1,2,3,4,\"parsuram\",5,6,7,8]\n",
    "print(l)\n",
    "l.clear()   # clear empty the list.\n",
    "print(l)"
   ]
  },
  {
   "cell_type": "markdown",
   "id": "52c135cb",
   "metadata": {},
   "source": [
    "# operation"
   ]
  },
  {
   "cell_type": "code",
   "execution_count": 63,
   "id": "10c300f5",
   "metadata": {},
   "outputs": [
    {
     "name": "stdout",
     "output_type": "stream",
     "text": [
      "[1, 2, 3, 4, 3, 4, 5, 6]\n",
      "[1, 2, 3, 4, 1, 2, 3, 4, 1, 2, 3, 4]\n"
     ]
    }
   ],
   "source": [
    "l1 = [1,2,3,4]\n",
    "l2 = [3,4,5,6]\n",
    "print(l1+l2)\n",
    "print(l1*3)"
   ]
  },
  {
   "cell_type": "code",
   "execution_count": 67,
   "id": "3ca87110",
   "metadata": {},
   "outputs": [
    {
     "name": "stdout",
     "output_type": "stream",
     "text": [
      "True\n",
      "True\n",
      "False\n"
     ]
    }
   ],
   "source": [
    "l = [1,2,3,[4,5]]\n",
    "print(1 in l)\n",
    "print([4,5] in l)\n",
    "print(4 in l)"
   ]
  },
  {
   "cell_type": "markdown",
   "id": "6ae0e1f6",
   "metadata": {},
   "source": [
    "# function\n"
   ]
  },
  {
   "cell_type": "code",
   "execution_count": 75,
   "id": "1c7756a2",
   "metadata": {},
   "outputs": [
    {
     "name": "stdout",
     "output_type": "stream",
     "text": [
      "[1, 2, 4, 7, 8]\n",
      "[8, 7, 4, 2, 1]\n",
      "[2, 4, 1, 7, 8]\n",
      "[1, 2, 4, 7, 8]\n"
     ]
    }
   ],
   "source": [
    "l = [2,4,1,7,8]\n",
    "print(sorted(l)) # it sort temporary \n",
    "print(sorted(l,reverse = True))\n",
    "print(l)\n",
    "\n",
    "\n",
    "l.sort()   # it sort parmanently of the list\n",
    "print(l)"
   ]
  },
  {
   "cell_type": "code",
   "execution_count": 79,
   "id": "f670ecba",
   "metadata": {},
   "outputs": [
    {
     "data": {
      "text/plain": [
       "1"
      ]
     },
     "execution_count": 79,
     "metadata": {},
     "output_type": "execute_result"
    }
   ],
   "source": [
    "l.index(2)"
   ]
  },
  {
   "cell_type": "code",
   "execution_count": 80,
   "id": "78877ba3",
   "metadata": {},
   "outputs": [
    {
     "name": "stdout",
     "output_type": "stream",
     "text": [
      "Hello\n",
      "Chat\n",
      "Gpt\n"
     ]
    }
   ],
   "source": [
    "sample = \"hello chat gpt\"\n",
    "for i in sample.split():\n",
    "    print(i.capitalize())"
   ]
  },
  {
   "cell_type": "code",
   "execution_count": 85,
   "id": "a8b6a22c",
   "metadata": {},
   "outputs": [
    {
     "name": "stdout",
     "output_type": "stream",
     "text": [
      "abc\n"
     ]
    }
   ],
   "source": [
    "sample = \"abc@gmail.com\"\n",
    "print(sample[:sample.find(\"@\")]"
   ]
  },
  {
   "cell_type": "code",
   "execution_count": 91,
   "id": "02990d54",
   "metadata": {},
   "outputs": [
    {
     "name": "stdout",
     "output_type": "stream",
     "text": [
      "[1, 1, 2, 2, 3, 3, 4, 4]\n",
      "[1, 1, 2, 2, 3, 3, 4, 4]\n",
      "[1, 2, 3]\n"
     ]
    }
   ],
   "source": [
    "# remove duplicate\n",
    "l = [1,1,2,2,3,3,4,4]\n",
    "print(l)\n",
    "l.sort()\n",
    "print(l)\n",
    "temp = []\n",
    "for i in range(0,len(l)-1):\n",
    "    if l[i]!= l[i+1]:\n",
    "        temp.append(l[i])\n",
    "print(temp)"
   ]
  },
  {
   "cell_type": "code",
   "execution_count": 92,
   "id": "7e4cc3e5",
   "metadata": {},
   "outputs": [
    {
     "name": "stdout",
     "output_type": "stream",
     "text": [
      "[1, 2, 3]\n"
     ]
    }
   ],
   "source": [
    "# remove duplicate\n",
    "l = [1,1,2,2,3,3,4,4]\n",
    "temp = []\n",
    "for i in l:\n",
    "    if l[i] not in temp:\n",
    "        temp.append(l[i])\n",
    "print(temp)"
   ]
  }
 ],
 "metadata": {
  "kernelspec": {
   "display_name": "Python 3 (ipykernel)",
   "language": "python",
   "name": "python3"
  },
  "language_info": {
   "codemirror_mode": {
    "name": "ipython",
    "version": 3
   },
   "file_extension": ".py",
   "mimetype": "text/x-python",
   "name": "python",
   "nbconvert_exporter": "python",
   "pygments_lexer": "ipython3",
   "version": "3.10.9"
  }
 },
 "nbformat": 4,
 "nbformat_minor": 5
}
