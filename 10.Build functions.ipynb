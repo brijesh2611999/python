{
 "cells": [
  {
   "cell_type": "markdown",
   "id": "8ed19a50",
   "metadata": {},
   "source": [
    "# Build function"
   ]
  },
  {
   "cell_type": "code",
   "execution_count": 1,
   "id": "44951a4c",
   "metadata": {},
   "outputs": [
    {
     "name": "stdout",
     "output_type": "stream",
     "text": [
      "hello\n"
     ]
    }
   ],
   "source": [
    "print(\"hello\")"
   ]
  },
  {
   "cell_type": "code",
   "execution_count": 2,
   "id": "f568ed95",
   "metadata": {},
   "outputs": [
    {
     "name": "stdout",
     "output_type": "stream",
     "text": [
      "enter your name :hanuman\n"
     ]
    },
    {
     "data": {
      "text/plain": [
       "'hanuman'"
      ]
     },
     "execution_count": 2,
     "metadata": {},
     "output_type": "execute_result"
    }
   ],
   "source": [
    "input(\"enter your name :\")"
   ]
  },
  {
   "cell_type": "code",
   "execution_count": 3,
   "id": "98983cc7",
   "metadata": {},
   "outputs": [
    {
     "data": {
      "text/plain": [
       "int"
      ]
     },
     "execution_count": 3,
     "metadata": {},
     "output_type": "execute_result"
    }
   ],
   "source": [
    "a = 5\n",
    "type(a)"
   ]
  },
  {
   "cell_type": "code",
   "execution_count": 4,
   "id": "dd190b82",
   "metadata": {},
   "outputs": [
    {
     "data": {
      "text/plain": [
       "5"
      ]
     },
     "execution_count": 4,
     "metadata": {},
     "output_type": "execute_result"
    }
   ],
   "source": [
    "int(5.6)"
   ]
  },
  {
   "cell_type": "code",
   "execution_count": 5,
   "id": "de6ad85d",
   "metadata": {},
   "outputs": [
    {
     "data": {
      "text/plain": [
       "3"
      ]
     },
     "execution_count": 5,
     "metadata": {},
     "output_type": "execute_result"
    }
   ],
   "source": [
    "abs(-3)"
   ]
  },
  {
   "cell_type": "code",
   "execution_count": 6,
   "id": "4c315712",
   "metadata": {},
   "outputs": [
    {
     "data": {
      "text/plain": [
       "8"
      ]
     },
     "execution_count": 6,
     "metadata": {},
     "output_type": "execute_result"
    }
   ],
   "source": [
    "pow(2,3)"
   ]
  },
  {
   "cell_type": "code",
   "execution_count": 7,
   "id": "2cabc607",
   "metadata": {},
   "outputs": [
    {
     "data": {
      "text/plain": [
       "1"
      ]
     },
     "execution_count": 7,
     "metadata": {},
     "output_type": "execute_result"
    }
   ],
   "source": [
    "list = [2,3,4,6,1]\n",
    "min(list)\n",
    "\n",
    "# min([2,3,4,6,1])"
   ]
  },
  {
   "cell_type": "code",
   "execution_count": 10,
   "id": "423f0162",
   "metadata": {},
   "outputs": [
    {
     "data": {
      "text/plain": [
       "6"
      ]
     },
     "execution_count": 10,
     "metadata": {},
     "output_type": "execute_result"
    }
   ],
   "source": [
    "max([2,3,4,6,1])"
   ]
  },
  {
   "cell_type": "code",
   "execution_count": 11,
   "id": "aa51aed2",
   "metadata": {},
   "outputs": [
    {
     "data": {
      "text/plain": [
       "'a'"
      ]
     },
     "execution_count": 11,
     "metadata": {},
     "output_type": "execute_result"
    }
   ],
   "source": [
    "min(\"kolkata\")"
   ]
  },
  {
   "cell_type": "code",
   "execution_count": 12,
   "id": "e609a506",
   "metadata": {},
   "outputs": [
    {
     "data": {
      "text/plain": [
       "'t'"
      ]
     },
     "execution_count": 12,
     "metadata": {},
     "output_type": "execute_result"
    }
   ],
   "source": [
    "max(\"kolkata\")"
   ]
  },
  {
   "cell_type": "code",
   "execution_count": 14,
   "id": "886bfd92",
   "metadata": {},
   "outputs": [
    {
     "name": "stdout",
     "output_type": "stream",
     "text": [
      "3.142857142857143\n"
     ]
    },
    {
     "data": {
      "text/plain": [
       "3.143"
      ]
     },
     "execution_count": 14,
     "metadata": {},
     "output_type": "execute_result"
    }
   ],
   "source": [
    "c = 22/7\n",
    "print(c)\n",
    "round(c,3)"
   ]
  },
  {
   "cell_type": "code",
   "execution_count": 18,
   "id": "d12c7ddc",
   "metadata": {},
   "outputs": [
    {
     "data": {
      "text/plain": [
       "(2, 1)"
      ]
     },
     "execution_count": 18,
     "metadata": {},
     "output_type": "execute_result"
    }
   ],
   "source": [
    "divmod(5,2)\n",
    "#( x // y , x % y)"
   ]
  },
  {
   "cell_type": "code",
   "execution_count": 20,
   "id": "1e5b68cb",
   "metadata": {},
   "outputs": [
    {
     "data": {
      "text/plain": [
       "'0b100'"
      ]
     },
     "execution_count": 20,
     "metadata": {},
     "output_type": "execute_result"
    }
   ],
   "source": [
    "bin(4)"
   ]
  },
  {
   "cell_type": "code",
   "execution_count": 21,
   "id": "fd65d83a",
   "metadata": {},
   "outputs": [
    {
     "data": {
      "text/plain": [
       "'0o4'"
      ]
     },
     "execution_count": 21,
     "metadata": {},
     "output_type": "execute_result"
    }
   ],
   "source": [
    "oct(4)"
   ]
  },
  {
   "cell_type": "code",
   "execution_count": 22,
   "id": "2b3c4e59",
   "metadata": {},
   "outputs": [
    {
     "data": {
      "text/plain": [
       "'0x4'"
      ]
     },
     "execution_count": 22,
     "metadata": {},
     "output_type": "execute_result"
    }
   ],
   "source": [
    "hex(4)"
   ]
  },
  {
   "cell_type": "code",
   "execution_count": 23,
   "id": "22d0c735",
   "metadata": {},
   "outputs": [
    {
     "data": {
      "text/plain": [
       "2300621226320"
      ]
     },
     "execution_count": 23,
     "metadata": {},
     "output_type": "execute_result"
    }
   ],
   "source": [
    "a = 4\n",
    "id(a)\n",
    "# id  means address of a"
   ]
  },
  {
   "cell_type": "code",
   "execution_count": 25,
   "id": "6c424a9e",
   "metadata": {},
   "outputs": [
    {
     "data": {
      "text/plain": [
       "67"
      ]
     },
     "execution_count": 25,
     "metadata": {},
     "output_type": "execute_result"
    }
   ],
   "source": [
    "ord('C')\n",
    "\n",
    "#Ascii value of C"
   ]
  },
  {
   "cell_type": "code",
   "execution_count": 26,
   "id": "89123b19",
   "metadata": {},
   "outputs": [
    {
     "data": {
      "text/plain": [
       "15"
      ]
     },
     "execution_count": 26,
     "metadata": {},
     "output_type": "execute_result"
    }
   ],
   "source": [
    "sum({1,2,3,4,5})"
   ]
  },
  {
   "cell_type": "code",
   "execution_count": 28,
   "id": "d1f6f153",
   "metadata": {},
   "outputs": [
    {
     "name": "stdout",
     "output_type": "stream",
     "text": [
      "Help on built-in function print in module builtins:\n",
      "\n",
      "print(...)\n",
      "    print(value, ..., sep=' ', end='\\n', file=sys.stdout, flush=False)\n",
      "    \n",
      "    Prints the values to a stream, or to sys.stdout by default.\n",
      "    Optional keyword arguments:\n",
      "    file:  a file-like object (stream); defaults to the current sys.stdout.\n",
      "    sep:   string inserted between values, default a space.\n",
      "    end:   string appended after the last value, default a newline.\n",
      "    flush: whether to forcibly flush the stream.\n",
      "\n",
      "Help on built-in function divmod in module builtins:\n",
      "\n",
      "divmod(x, y, /)\n",
      "    Return the tuple (x//y, x%y).  Invariant: div*y + mod == x.\n",
      "\n"
     ]
    }
   ],
   "source": [
    "help('print')\n",
    "help('divmod')"
   ]
  }
 ],
 "metadata": {
  "kernelspec": {
   "display_name": "Python 3 (ipykernel)",
   "language": "python",
   "name": "python3"
  },
  "language_info": {
   "codemirror_mode": {
    "name": "ipython",
    "version": 3
   },
   "file_extension": ".py",
   "mimetype": "text/x-python",
   "name": "python",
   "nbconvert_exporter": "python",
   "pygments_lexer": "ipython3",
   "version": "3.10.9"
  }
 },
 "nbformat": 4,
 "nbformat_minor": 5
}
