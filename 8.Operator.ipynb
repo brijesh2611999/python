{
 "cells": [
  {
   "cell_type": "markdown",
   "id": "5988af7b",
   "metadata": {},
   "source": [
    "# Operators\n",
    "1. Arithmetic\n",
    "2. Comparison\n",
    "3. Logical\n",
    "4. Bitwise\n",
    "5. Assignment\n",
    "6. Identity\n",
    "7. Membership"
   ]
  },
  {
   "cell_type": "code",
   "execution_count": 2,
   "id": "8d6db1bf",
   "metadata": {},
   "outputs": [
    {
     "name": "stdout",
     "output_type": "stream",
     "text": [
      "7\n",
      "1\n",
      "12\n",
      "1.3333333333333333\n",
      "1\n",
      "1\n",
      "64\n"
     ]
    }
   ],
   "source": [
    "# Arithmetic\n",
    "a = 4\n",
    "b = 3\n",
    "print(a+b)\n",
    "print(a-b)\n",
    "print(a*b)\n",
    "print(a/b)\n",
    "print(a%b)      # remainder\n",
    "print(a//b)     # it gives only integer part of the quotient.\n",
    "print(a**b)     # a^b"
   ]
  },
  {
   "cell_type": "code",
   "execution_count": 3,
   "id": "8d36e4da",
   "metadata": {},
   "outputs": [
    {
     "name": "stdout",
     "output_type": "stream",
     "text": [
      "True\n",
      "True\n",
      "False\n",
      "False\n"
     ]
    }
   ],
   "source": [
    "# Comparison\n",
    "print(a>b)\n",
    "print(a>=b)\n",
    "print(a<b)\n",
    "print(a<=b)"
   ]
  },
  {
   "cell_type": "code",
   "execution_count": 4,
   "id": "36986c63",
   "metadata": {},
   "outputs": [
    {
     "name": "stdout",
     "output_type": "stream",
     "text": [
      "4\n",
      "3\n",
      "False\n",
      "False\n"
     ]
    }
   ],
   "source": [
    "# logical\n",
    "print(a or b)\n",
    "print(a and b)\n",
    "print(not a)\n",
    "print(not b)"
   ]
  },
  {
   "cell_type": "code",
   "execution_count": 6,
   "id": "69915993",
   "metadata": {},
   "outputs": [
    {
     "name": "stdout",
     "output_type": "stream",
     "text": [
      "0\n",
      "7\n",
      "7\n",
      "16\n",
      "0\n",
      "-5\n"
     ]
    }
   ],
   "source": [
    "# Bitwise \n",
    "a = 4\n",
    "b = 3\n",
    "print(a&b)\n",
    "print(a|b)\n",
    "print(a^b)\n",
    "print(a<<2)\n",
    "print(b>>2)\n",
    "print(~a)"
   ]
  },
  {
   "cell_type": "code",
   "execution_count": 8,
   "id": "3dcdac69",
   "metadata": {},
   "outputs": [
    {
     "name": "stdout",
     "output_type": "stream",
     "text": [
      "4.0\n"
     ]
    }
   ],
   "source": [
    "# Assignment\n",
    "x = 4\n",
    "x += 2\n",
    "x -= 2\n",
    "x *= 2\n",
    "x /= 2\n",
    "print(x)"
   ]
  },
  {
   "cell_type": "code",
   "execution_count": 15,
   "id": "e14a1f1a",
   "metadata": {},
   "outputs": [
    {
     "name": "stdout",
     "output_type": "stream",
     "text": [
      "True\n",
      "True\n"
     ]
    }
   ],
   "source": [
    "# Identity\n",
    "a = 3\n",
    "b = 3\n",
    "print(a is b)\n",
    "\n",
    "a = \"hello\"\n",
    "b = \"hello\"\n",
    "print(a is b)"
   ]
  },
  {
   "cell_type": "code",
   "execution_count": 13,
   "id": "c116ed9f",
   "metadata": {},
   "outputs": [
    {
     "name": "stdout",
     "output_type": "stream",
     "text": [
      "False\n",
      "True\n",
      "True\n",
      "False\n"
     ]
    }
   ],
   "source": [
    "# Membership\n",
    "City_name = \"Haridwar\"\n",
    "print(\"d\" not in City_name)\n",
    "print(\"r\" in City_name)\n",
    "\n",
    "a = [1,2,3,4,5]\n",
    "print(1 in a)\n",
    "print(6 in a)"
   ]
  }
 ],
 "metadata": {
  "kernelspec": {
   "display_name": "Python 3 (ipykernel)",
   "language": "python",
   "name": "python3"
  },
  "language_info": {
   "codemirror_mode": {
    "name": "ipython",
    "version": 3
   },
   "file_extension": ".py",
   "mimetype": "text/x-python",
   "name": "python",
   "nbconvert_exporter": "python",
   "pygments_lexer": "ipython3",
   "version": "3.10.9"
  }
 },
 "nbformat": 4,
 "nbformat_minor": 5
}
