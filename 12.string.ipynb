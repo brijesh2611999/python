{
 "cells": [
  {
   "cell_type": "markdown",
   "id": "be1c9ecc",
   "metadata": {},
   "source": [
    "# String\n",
    "1. sequence of character.\n",
    "2. In python- string is  a sequence of unicode characters.\n",
    "- create string\n",
    "- access string\n",
    "- adding character to string\n",
    "- editing string\n",
    "- delete string\n",
    "- operation on string\n",
    "- string function"
   ]
  },
  {
   "cell_type": "code",
   "execution_count": 13,
   "id": "47998dff",
   "metadata": {},
   "outputs": [
    {
     "name": "stdout",
     "output_type": "stream",
     "text": [
      "hello\n"
     ]
    }
   ],
   "source": [
    "#create string\n",
    "c = \"hello\"\n",
    "print(c)"
   ]
  },
  {
   "cell_type": "code",
   "execution_count": 17,
   "id": "46770611",
   "metadata": {},
   "outputs": [
    {
     "name": "stdout",
     "output_type": "stream",
     "text": [
      "h\n",
      "l\n",
      "hell\n",
      "hl\n",
      "olleh\n",
      "hello\n"
     ]
    }
   ],
   "source": [
    "print(c[0])\n",
    "print(c[3])\n",
    "print(c[0:4])\n",
    "print(c[0:4:2])  \n",
    "print(c[::-1])  # reverse string \n",
    "print(c[::])"
   ]
  },
  {
   "cell_type": "code",
   "execution_count": 3,
   "id": "a09cf970",
   "metadata": {},
   "outputs": [
    {
     "name": "stdout",
     "output_type": "stream",
     "text": [
      "helloworld\n"
     ]
    }
   ],
   "source": [
    "print(c+\"world\")"
   ]
  },
  {
   "cell_type": "code",
   "execution_count": 4,
   "id": "20a3a741",
   "metadata": {},
   "outputs": [
    {
     "ename": "TypeError",
     "evalue": "'str' object does not support item assignment",
     "output_type": "error",
     "traceback": [
      "\u001b[1;31m---------------------------------------------------------------------------\u001b[0m",
      "\u001b[1;31mTypeError\u001b[0m                                 Traceback (most recent call last)",
      "Cell \u001b[1;32mIn[4], line 1\u001b[0m\n\u001b[1;32m----> 1\u001b[0m c[\u001b[38;5;241m0\u001b[39m]\u001b[38;5;241m=\u001b[39m\u001b[38;5;124m'\u001b[39m\u001b[38;5;124my\u001b[39m\u001b[38;5;124m'\u001b[39m\n",
      "\u001b[1;31mTypeError\u001b[0m: 'str' object does not support item assignment"
     ]
    }
   ],
   "source": [
    "# we can't edit string\n",
    "c[0]='y'"
   ]
  },
  {
   "cell_type": "code",
   "execution_count": 7,
   "id": "9b544134",
   "metadata": {},
   "outputs": [
    {
     "name": "stdout",
     "output_type": "stream",
     "text": [
      "world\n"
     ]
    }
   ],
   "source": [
    "c = \"world\"\n",
    "print(c)"
   ]
  },
  {
   "cell_type": "code",
   "execution_count": 9,
   "id": "37af4d03",
   "metadata": {},
   "outputs": [
    {
     "ename": "NameError",
     "evalue": "name 'c' is not defined",
     "output_type": "error",
     "traceback": [
      "\u001b[1;31m---------------------------------------------------------------------------\u001b[0m",
      "\u001b[1;31mNameError\u001b[0m                                 Traceback (most recent call last)",
      "Cell \u001b[1;32mIn[9], line 2\u001b[0m\n\u001b[0;32m      1\u001b[0m \u001b[38;5;66;03m# delete string\u001b[39;00m\n\u001b[1;32m----> 2\u001b[0m \u001b[38;5;28;01mdel\u001b[39;00m(c)\n\u001b[0;32m      3\u001b[0m \u001b[38;5;28mprint\u001b[39m(c)\n",
      "\u001b[1;31mNameError\u001b[0m: name 'c' is not defined"
     ]
    }
   ],
   "source": [
    "# delete string\n",
    "del(c)\n",
    "print(c)"
   ]
  },
  {
   "cell_type": "code",
   "execution_count": 26,
   "id": "01dcc300",
   "metadata": {},
   "outputs": [
    {
     "name": "stdout",
     "output_type": "stream",
     "text": [
      "helloworld\n",
      "**********\n",
      "Shiva Shiva Shiva Shiva Shiva Shiva Shiva Shiva Shiva Shiva Shiva Shiva Shiva Shiva Shiva Shiva Shiva Shiva Shiva Shiva \n",
      "\n",
      "\n",
      "False\n",
      "world\n",
      "hello\n",
      "world\n",
      "hello\n"
     ]
    }
   ],
   "source": [
    "# Operation\n",
    "# arithmetic/relational/logical/loop/membership\n",
    "\n",
    "print(\"hello\"+\"world\")\n",
    "print(\"*\"*10)\n",
    "print(\"Shiva \"*20)\n",
    "\n",
    "print()\n",
    "print()\n",
    "print(\"mumbai\">\"pune\")  #lexigraphically arrange order\n",
    "\n",
    "print(\"hello\" and \"world\")\n",
    "print(\"hello\" or \"world\")\n",
    "print(\" \" and \"world\")\n",
    "print(\"hello\" or \"world\")\n",
    "\n"
   ]
  },
  {
   "cell_type": "code",
   "execution_count": 32,
   "id": "d0dd9581",
   "metadata": {},
   "outputs": [
    {
     "name": "stdout",
     "output_type": "stream",
     "text": [
      "7\n",
      "v\n",
      "a\n",
      "['a', 'a', 'd', 'e', 'h', 'm', 'v']\n",
      "\n",
      "\n",
      "This is my company\n",
      "This Is My Company\n",
      "THIS IS MY COMPANY\n",
      "this is my company\n",
      "<built-in method swapcase of str object at 0x000002111A348CB0>\n"
     ]
    }
   ],
   "source": [
    "# string function\n",
    "#   len/max/min/sorted\n",
    "c = \"mahadev\"\n",
    "print(len(c))\n",
    "print(max(c))\n",
    "print(min(c))\n",
    "print(sorted(c))\n",
    "\n",
    "\n",
    "print()\n",
    "print()\n",
    "\n",
    "\n",
    "# capitalize/title/upper/lower/swapcase\n",
    "c = \"this is my company\"\n",
    "print(c.capitalize())  #only first character uppercase\n",
    "print(c.title())       # every first word first character uppercase\n",
    "print(c.upper())\n",
    "print(c.lower())\n",
    "print(c.swapcase)\n",
    "\n"
   ]
  },
  {
   "cell_type": "code",
   "execution_count": 54,
   "id": "aed2e240",
   "metadata": {},
   "outputs": [
    {
     "name": "stdout",
     "output_type": "stream",
     "text": [
      "0\n",
      "2\n",
      "2\n"
     ]
    }
   ],
   "source": [
    "c = \"this is the only one option of my life\"\n",
    "print(c.find(\"this\"))  #it provide the position of the searchnable item.\n",
    "print(c.find(\"i\"))\n",
    "\n",
    "print(c.index('i'))\n",
    "\n",
    "# find and index work same but the only one differece between is when the find function not found then it will return -1 \n",
    "# and when index not found then it wiil give error."
   ]
  },
  {
   "cell_type": "code",
   "execution_count": 57,
   "id": "d14499f3",
   "metadata": {},
   "outputs": [
    {
     "data": {
      "text/plain": [
       "'hello my name is Shushant and i am 34 year old'"
      ]
     },
     "execution_count": 57,
     "metadata": {},
     "output_type": "execute_result"
    }
   ],
   "source": [
    "# some important part of the string\n",
    "\n",
    "# format/split/join/replace/strip\n",
    "\n",
    "\"hello my name is {} and i am {} year old\".format(\"Shushant\",\"34\")"
   ]
  },
  {
   "cell_type": "code",
   "execution_count": 58,
   "id": "06e8a3dc",
   "metadata": {},
   "outputs": [
    {
     "data": {
      "text/plain": [
       "'hello my name is 34 and i am Shushant year old'"
      ]
     },
     "execution_count": 58,
     "metadata": {},
     "output_type": "execute_result"
    }
   ],
   "source": [
    "\"hello my name is {1} and i am {0} year old\".format(\"Shushant\",\"34\")"
   ]
  },
  {
   "cell_type": "code",
   "execution_count": 61,
   "id": "95e34ce7",
   "metadata": {},
   "outputs": [
    {
     "data": {
      "text/plain": [
       "'hello my name is Shushant and i am 34 year old'"
      ]
     },
     "execution_count": 61,
     "metadata": {},
     "output_type": "execute_result"
    }
   ],
   "source": [
    "\"hello my name is {name} and i am {age} year old\".format(name = \"Shushant\",age = \"34\")"
   ]
  },
  {
   "cell_type": "code",
   "execution_count": 62,
   "id": "40a43575",
   "metadata": {},
   "outputs": [
    {
     "data": {
      "text/plain": [
       "'hello my name is Shushant and i am Shushant year old'"
      ]
     },
     "execution_count": 62,
     "metadata": {},
     "output_type": "execute_result"
    }
   ],
   "source": [
    "\"hello my name is {name} and i am {name} year old\".format(name = \"Shushant\",age = \"34\")"
   ]
  },
  {
   "cell_type": "code",
   "execution_count": 63,
   "id": "10788c60",
   "metadata": {},
   "outputs": [
    {
     "data": {
      "text/plain": [
       "['who', 'is', 'the', 'prime', 'minister', 'of', 'india']"
      ]
     },
     "execution_count": 63,
     "metadata": {},
     "output_type": "execute_result"
    }
   ],
   "source": [
    "# split\n",
    "\n",
    "\"who is the prime minister of india\".split()"
   ]
  },
  {
   "cell_type": "code",
   "execution_count": 68,
   "id": "2596f35d",
   "metadata": {},
   "outputs": [
    {
     "data": {
      "text/plain": [
       "'who is the prime minister of india'"
      ]
     },
     "execution_count": 68,
     "metadata": {},
     "output_type": "execute_result"
    }
   ],
   "source": [
    "# join\n",
    "\" \".join(['who', 'is', 'the', 'prime', 'minister', 'of', 'india'])"
   ]
  },
  {
   "cell_type": "code",
   "execution_count": 76,
   "id": "b14ea05e",
   "metadata": {},
   "outputs": [
    {
     "data": {
      "text/plain": [
       "'this is your favourite place'"
      ]
     },
     "execution_count": 76,
     "metadata": {},
     "output_type": "execute_result"
    }
   ],
   "source": [
    "# replace\n",
    "\"this is my favourite place\".replace(\"my\",\"your\")"
   ]
  },
  {
   "cell_type": "code",
   "execution_count": 77,
   "id": "71121ae5",
   "metadata": {},
   "outputs": [
    {
     "data": {
      "text/plain": [
       "'getout world'"
      ]
     },
     "execution_count": 77,
     "metadata": {},
     "output_type": "execute_result"
    }
   ],
   "source": [
    "a ='hello world'\n",
    "a.replace(\"hello\",\"getout\")"
   ]
  },
  {
   "cell_type": "code",
   "execution_count": 86,
   "id": "1b7b0d13",
   "metadata": {},
   "outputs": [
    {
     "name": "stdout",
     "output_type": "stream",
     "text": [
      "           hatim                 \n"
     ]
    }
   ],
   "source": [
    "# strip\n",
    "\n",
    "name = \"           hatim                 \"\n",
    "print(name)   #here is the problem if you create a login page and user enter the name in this way then we have to remove \n",
    "                # extra space so here we use strip()\n"
   ]
  },
  {
   "cell_type": "code",
   "execution_count": 87,
   "id": "4bcfc95e",
   "metadata": {},
   "outputs": [
    {
     "data": {
      "text/plain": [
       "'hatim'"
      ]
     },
     "execution_count": 87,
     "metadata": {},
     "output_type": "execute_result"
    }
   ],
   "source": [
    "name.strip()"
   ]
  }
 ],
 "metadata": {
  "kernelspec": {
   "display_name": "Python 3 (ipykernel)",
   "language": "python",
   "name": "python3"
  },
  "language_info": {
   "codemirror_mode": {
    "name": "ipython",
    "version": 3
   },
   "file_extension": ".py",
   "mimetype": "text/x-python",
   "name": "python",
   "nbconvert_exporter": "python",
   "pygments_lexer": "ipython3",
   "version": "3.10.9"
  }
 },
 "nbformat": 4,
 "nbformat_minor": 5
}
