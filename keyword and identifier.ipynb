{
 "cells": [
  {
   "cell_type": "markdown",
   "id": "f54a12d7",
   "metadata": {},
   "source": [
    "# keyword\n",
    "1. keyword is a word that is reserved by a program because the word has a special meaning.\n",
    "2. keyword cannot be used as variable name.\n",
    "3. 33 keywords in python."
   ]
  },
  {
   "cell_type": "code",
   "execution_count": 1,
   "id": "8450e483",
   "metadata": {},
   "outputs": [
    {
     "name": "stdout",
     "output_type": "stream",
     "text": [
      "['False', 'None', 'True', 'and', 'as', 'assert', 'async', 'await', 'break', 'class', 'continue', 'def', 'del', 'elif', 'else', 'except', 'finally', 'for', 'from', 'global', 'if', 'import', 'in', 'is', 'lambda', 'nonlocal', 'not', 'or', 'pass', 'raise', 'return', 'try', 'while', 'with', 'yield']\n"
     ]
    }
   ],
   "source": [
    "import keyword\n",
    "print(keyword.kwlist)"
   ]
  },
  {
   "cell_type": "markdown",
   "id": "6c82cdaa",
   "metadata": {},
   "source": [
    "#  Identifiers\n",
    "Identifier is a name used to identify a variable,function,class,module or other object.\n",
    "1. start with alphabet or _ underscore.\n",
    "2. keyword can't be used for identifiers."
   ]
  },
  {
   "cell_type": "code",
   "execution_count": 2,
   "id": "3034206a",
   "metadata": {},
   "outputs": [
    {
     "name": "stdout",
     "output_type": "stream",
     "text": [
      "Hanuman\n"
     ]
    }
   ],
   "source": [
    "_ = \"Hanuman\"\n",
    "print(_)"
   ]
  },
  {
   "cell_type": "code",
   "execution_count": 3,
   "id": "c7120084",
   "metadata": {},
   "outputs": [
    {
     "name": "stdout",
     "output_type": "stream",
     "text": [
      "Ram\n"
     ]
    }
   ],
   "source": [
    "__ = \"Ram\"\n",
    "print(__)"
   ]
  },
  {
   "cell_type": "code",
   "execution_count": 4,
   "id": "063d6891",
   "metadata": {},
   "outputs": [
    {
     "ename": "SyntaxError",
     "evalue": "invalid decimal literal (2900980717.py, line 1)",
     "output_type": "error",
     "traceback": [
      "\u001b[1;36m  Cell \u001b[1;32mIn[4], line 1\u001b[1;36m\u001b[0m\n\u001b[1;33m    1a = \"Ravan\"\u001b[0m\n\u001b[1;37m    ^\u001b[0m\n\u001b[1;31mSyntaxError\u001b[0m\u001b[1;31m:\u001b[0m invalid decimal literal\n"
     ]
    }
   ],
   "source": [
    "1a = \"Ravan\"\n",
    "print(1a)"
   ]
  },
  {
   "cell_type": "code",
   "execution_count": 5,
   "id": "af1df1ee",
   "metadata": {},
   "outputs": [
    {
     "name": "stdout",
     "output_type": "stream",
     "text": [
      "Laxman\n"
     ]
    }
   ],
   "source": [
    "a1 = \"Laxman\"\n",
    "print(a1)"
   ]
  }
 ],
 "metadata": {
  "kernelspec": {
   "display_name": "Python 3 (ipykernel)",
   "language": "python",
   "name": "python3"
  },
  "language_info": {
   "codemirror_mode": {
    "name": "ipython",
    "version": 3
   },
   "file_extension": ".py",
   "mimetype": "text/x-python",
   "name": "python",
   "nbconvert_exporter": "python",
   "pygments_lexer": "ipython3",
   "version": "3.10.9"
  }
 },
 "nbformat": 4,
 "nbformat_minor": 5
}
