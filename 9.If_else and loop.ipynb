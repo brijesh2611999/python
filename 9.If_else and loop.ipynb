{
 "cells": [
  {
   "cell_type": "code",
   "execution_count": 7,
   "id": "6371ca80",
   "metadata": {},
   "outputs": [
    {
     "name": "stdout",
     "output_type": "stream",
     "text": [
      "enter email-id :ram@gmail.com\n",
      "enter your password :12345679\n",
      "enter password again :12345678\n",
      "Welcome\n"
     ]
    }
   ],
   "source": [
    "#condition based\n",
    "# ex- you have to create a form. In this form user enter email-id and password. If the id and password correct then \n",
    "# successfully Login. otherwise program will be terminated.\n",
    "\n",
    "email_id = input(\"enter email-id :\")\n",
    "password = input(\"enter your password :\")\n",
    "if '@' in email_id:\n",
    "    if email_id == \"ram@gmail.com\" and password == \"12345678\":\n",
    "        print(\"Welcome\")\n",
    "    elif email_id == \"ram@gmail.com\" and password != \"12345678\":\n",
    "        password = input(\"enter password again :\")\n",
    "        if(password == \"12345678\"):\n",
    "            print(\"Welcome\")\n",
    "        else:\n",
    "            print(\"Incorrect password\")\n",
    "else:\n",
    "    print(\"Invaild User\")"
   ]
  },
  {
   "cell_type": "code",
   "execution_count": 10,
   "id": "f626eb36",
   "metadata": {},
   "outputs": [
    {
     "name": "stdout",
     "output_type": "stream",
     "text": [
      "guess the number :45\n",
      "guess lower\n",
      "40\n",
      "guess lower\n",
      "30\n",
      "guess greater\n",
      "35\n",
      "guess lower\n",
      "33\n",
      "guess lower\n",
      "32\n",
      "guess lower\n",
      "31\n",
      "correct answer\n"
     ]
    }
   ],
   "source": [
    "#while\n",
    "#let we create a game guess the number\n",
    "import random\n",
    "jackpot = random.randint(1,100)\n",
    "guess = int(input(\"guess the number :\"))\n",
    "while guess!=jackpot:\n",
    "    if guess > jackpot:\n",
    "        print(\"guess lower\")\n",
    "    elif guess < jackpot:\n",
    "        print(\"guess greater\")\n",
    "    guess = int(input())\n",
    "print(\"correct answer\")"
   ]
  },
  {
   "cell_type": "code",
   "execution_count": null,
   "id": "bfc4652a",
   "metadata": {},
   "outputs": [],
   "source": [
    "#for loop\n",
    "*\n",
    "**\n",
    "***\n",
    "****\n",
    "*****"
   ]
  },
  {
   "cell_type": "code",
   "execution_count": 13,
   "id": "734a8d4f",
   "metadata": {},
   "outputs": [
    {
     "name": "stdout",
     "output_type": "stream",
     "text": [
      "*\n",
      "**\n",
      "***\n",
      "****\n",
      "*****\n"
     ]
    }
   ],
   "source": [
    "for i in range(0,5):\n",
    "    for j in range(0,5):\n",
    "        if i>=j:\n",
    "            print(\"*\",end = '')\n",
    "    print()"
   ]
  }
 ],
 "metadata": {
  "kernelspec": {
   "display_name": "Python 3 (ipykernel)",
   "language": "python",
   "name": "python3"
  },
  "language_info": {
   "codemirror_mode": {
    "name": "ipython",
    "version": 3
   },
   "file_extension": ".py",
   "mimetype": "text/x-python",
   "name": "python",
   "nbconvert_exporter": "python",
   "pygments_lexer": "ipython3",
   "version": "3.10.9"
  }
 },
 "nbformat": 4,
 "nbformat_minor": 5
}
