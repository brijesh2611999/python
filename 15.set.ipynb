{
 "cells": [
  {
   "cell_type": "markdown",
   "id": "3fbf5b72",
   "metadata": {},
   "source": [
    "# set\n",
    "- set is a datatype.\n",
    "- set not allow duplicate.\n",
    "- set have no indexing and data arrange from hashing.\n",
    "- set don't allow mutable datatype.\n",
    "- set is a mutable datatype."
   ]
  },
  {
   "cell_type": "code",
   "execution_count": 4,
   "id": "9f7cea30",
   "metadata": {},
   "outputs": [
    {
     "name": "stdout",
     "output_type": "stream",
     "text": [
      "<class 'dict'>\n",
      "<class 'set'>\n"
     ]
    }
   ],
   "source": [
    "s1 = {}\n",
    "print(type(s1))\n",
    "# note-> set and dictionary both are written in {}.\n",
    "s1 = set()\n",
    "print(type(s1))"
   ]
  },
  {
   "cell_type": "code",
   "execution_count": 10,
   "id": "3142aa70",
   "metadata": {},
   "outputs": [
    {
     "name": "stdout",
     "output_type": "stream",
     "text": [
      "{'hello', 2, 3, 1}\n"
     ]
    }
   ],
   "source": [
    "s1 = {1,2,3,\"hello\"} # hetrogenious data\n",
    "print(s1)"
   ]
  },
  {
   "cell_type": "code",
   "execution_count": 9,
   "id": "e9ddaac1",
   "metadata": {},
   "outputs": [
    {
     "name": "stdout",
     "output_type": "stream",
     "text": [
      "1922443897408\n"
     ]
    }
   ],
   "source": [
    "print(id(s1))"
   ]
  },
  {
   "cell_type": "code",
   "execution_count": 11,
   "id": "5d381973",
   "metadata": {},
   "outputs": [
    {
     "name": "stdout",
     "output_type": "stream",
     "text": [
      "{1, 2, 3, 4}\n"
     ]
    }
   ],
   "source": [
    "# duplicate not allow\n",
    "set = {1,1,2,3,4,3}\n",
    "print(set)"
   ]
  },
  {
   "cell_type": "code",
   "execution_count": 12,
   "id": "ec33c7ae",
   "metadata": {},
   "outputs": [
    {
     "ename": "TypeError",
     "evalue": "unhashable type: 'set'",
     "output_type": "error",
     "traceback": [
      "\u001b[1;31m---------------------------------------------------------------------------\u001b[0m",
      "\u001b[1;31mTypeError\u001b[0m                                 Traceback (most recent call last)",
      "Cell \u001b[1;32mIn[12], line 2\u001b[0m\n\u001b[0;32m      1\u001b[0m \u001b[38;5;66;03m# 2d set is not possible\u001b[39;00m\n\u001b[1;32m----> 2\u001b[0m s1 \u001b[38;5;241m=\u001b[39m {\u001b[38;5;241m1\u001b[39m,\u001b[38;5;241m2\u001b[39m,\u001b[38;5;241m3\u001b[39m,{\u001b[38;5;241m4\u001b[39m,\u001b[38;5;241m5\u001b[39m,\u001b[38;5;241m6\u001b[39m}}\n",
      "\u001b[1;31mTypeError\u001b[0m: unhashable type: 'set'"
     ]
    }
   ],
   "source": [
    "# 2d set is not possible\n",
    "s1 = {1,2,3,{4,5,6}}"
   ]
  },
  {
   "cell_type": "code",
   "execution_count": 13,
   "id": "fb9b8274",
   "metadata": {},
   "outputs": [
    {
     "name": "stdout",
     "output_type": "stream",
     "text": [
      "{1, 2, 3, (3, 4)}\n"
     ]
    }
   ],
   "source": [
    "s1 = {1,2,3,(3,4)}\n",
    "print(s1)"
   ]
  },
  {
   "cell_type": "code",
   "execution_count": 17,
   "id": "dbcc62d7",
   "metadata": {},
   "outputs": [
    {
     "name": "stdout",
     "output_type": "stream",
     "text": [
      "{1, 2, 3, 4, 5}\n",
      "{1, 2, 3, 4, 5, 34}\n"
     ]
    }
   ],
   "source": [
    "# add items\n",
    "s1 ={1,2,3,4,5}\n",
    "print(s1)\n",
    "s1.add(34)  #it will take exactly one argument.\n",
    "print(s1)"
   ]
  },
  {
   "cell_type": "code",
   "execution_count": 19,
   "id": "44580cdf",
   "metadata": {},
   "outputs": [
    {
     "name": "stdout",
     "output_type": "stream",
     "text": [
      "{4, 5, 6}\n"
     ]
    },
    {
     "ename": "NameError",
     "evalue": "name 's1' is not defined",
     "output_type": "error",
     "traceback": [
      "\u001b[1;31m---------------------------------------------------------------------------\u001b[0m",
      "\u001b[1;31mNameError\u001b[0m                                 Traceback (most recent call last)",
      "Cell \u001b[1;32mIn[19], line 4\u001b[0m\n\u001b[0;32m      2\u001b[0m \u001b[38;5;28mprint\u001b[39m(s1)\n\u001b[0;32m      3\u001b[0m \u001b[38;5;28;01mdel\u001b[39;00m s1\n\u001b[1;32m----> 4\u001b[0m \u001b[38;5;28mprint\u001b[39m(\u001b[43ms1\u001b[49m)\n",
      "\u001b[1;31mNameError\u001b[0m: name 's1' is not defined"
     ]
    }
   ],
   "source": [
    "s1 = {4,5,6}\n",
    "print(s1)\n",
    "del s1\n",
    "print(s1)"
   ]
  },
  {
   "cell_type": "code",
   "execution_count": 20,
   "id": "eb6f0d5b",
   "metadata": {},
   "outputs": [
    {
     "name": "stdout",
     "output_type": "stream",
     "text": [
      "{3, 4, 6}\n"
     ]
    }
   ],
   "source": [
    "s1 = {3,4,5,6}\n",
    "s1.remove(5)\n",
    "print(s1)"
   ]
  },
  {
   "cell_type": "code",
   "execution_count": 21,
   "id": "66350a24",
   "metadata": {},
   "outputs": [
    {
     "name": "stdout",
     "output_type": "stream",
     "text": [
      "{3, 4}\n"
     ]
    }
   ],
   "source": [
    "s1 = {2,3,4}\n",
    "s1.pop()\n",
    "print(s1)"
   ]
  },
  {
   "cell_type": "code",
   "execution_count": 24,
   "id": "e82ec0b7",
   "metadata": {},
   "outputs": [
    {
     "name": "stdout",
     "output_type": "stream",
     "text": [
      "{3, 4}\n",
      "False\n",
      "True\n"
     ]
    }
   ],
   "source": [
    "print(s1)\n",
    "print(1 in s1)\n",
    "print(3 in s1)"
   ]
  },
  {
   "cell_type": "markdown",
   "id": "8516581d",
   "metadata": {},
   "source": [
    "# function\n",
    "- len()\n",
    "- max()\n",
    "- min()\n",
    "- sum()\n",
    "- sorted()\n",
    "- union \n",
    "- intersection\n",
    "- diffenece\n",
    "- symmetric_difference\n",
    "- isdisjoint\n",
    "- isubset\n",
    "- issuperset"
   ]
  },
  {
   "cell_type": "code",
   "execution_count": 27,
   "id": "9d1e74c0",
   "metadata": {},
   "outputs": [
    {
     "name": "stdout",
     "output_type": "stream",
     "text": [
      "length : 5\n",
      "max :  13\n",
      "min : 2\n",
      "sum : 35\n",
      "[2, 4, 5, 11, 13]\n",
      "[13, 11, 5, 4, 2]\n"
     ]
    }
   ],
   "source": [
    "s1 = {11,2,13,4,5}\n",
    "print(\"length :\",len(s1))\n",
    "print(\"max : \",max(s1))\n",
    "print(\"min :\",min(s1))\n",
    "print(\"sum :\",sum(s1))\n",
    "print(sorted(s1))\n",
    "print(sorted(s1,reverse = True))"
   ]
  },
  {
   "cell_type": "code",
   "execution_count": 30,
   "id": "b5bdf039",
   "metadata": {},
   "outputs": [
    {
     "name": "stdout",
     "output_type": "stream",
     "text": [
      "{1, 2, 3, 4, 5, 6, 7}\n",
      "{2, 3}\n",
      "{1, 4, 5}\n",
      "{6, 7}\n"
     ]
    }
   ],
   "source": [
    "s1 = {1,2,3,4,5}\n",
    "s2 = {2,3,6,7}\n",
    "print(s1.union(s2))\n",
    "print(s1.intersection(s2))\n",
    "print(s1.difference(s2))  # S1-S2\n",
    "print(s2.difference(s1))  # s2-s1"
   ]
  },
  {
   "cell_type": "code",
   "execution_count": 32,
   "id": "b7c36566",
   "metadata": {},
   "outputs": [
    {
     "data": {
      "text/plain": [
       "{1, 4, 5, 6, 7}"
      ]
     },
     "execution_count": 32,
     "metadata": {},
     "output_type": "execute_result"
    }
   ],
   "source": [
    "s1.symmetric_difference(s2)"
   ]
  },
  {
   "cell_type": "code",
   "execution_count": 33,
   "id": "512486bf",
   "metadata": {},
   "outputs": [
    {
     "data": {
      "text/plain": [
       "False"
      ]
     },
     "execution_count": 33,
     "metadata": {},
     "output_type": "execute_result"
    }
   ],
   "source": [
    "s1.isdisjoint(s2)"
   ]
  },
  {
   "cell_type": "code",
   "execution_count": 34,
   "id": "7f27d44e",
   "metadata": {},
   "outputs": [
    {
     "data": {
      "text/plain": [
       "False"
      ]
     },
     "execution_count": 34,
     "metadata": {},
     "output_type": "execute_result"
    }
   ],
   "source": [
    "s1.issuperset(s2)"
   ]
  }
 ],
 "metadata": {
  "kernelspec": {
   "display_name": "Python 3 (ipykernel)",
   "language": "python",
   "name": "python3"
  },
  "language_info": {
   "codemirror_mode": {
    "name": "ipython",
    "version": 3
   },
   "file_extension": ".py",
   "mimetype": "text/x-python",
   "name": "python",
   "nbconvert_exporter": "python",
   "pygments_lexer": "ipython3",
   "version": "3.10.9"
  }
 },
 "nbformat": 4,
 "nbformat_minor": 5
}
