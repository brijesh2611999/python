{
 "cells": [
  {
   "cell_type": "markdown",
   "id": "5a44b0e9",
   "metadata": {},
   "source": [
    "   # Datatypes in python\n",
    "      1.Basic : integer,float,complex,boolean,string\n",
    "      2.Container : set,dictionary,tuple,list\n",
    "      3.User define : classes\n",
    "            "
   ]
  },
  {
   "cell_type": "markdown",
   "id": "fc251cb9",
   "metadata": {},
   "source": [
    "# # Basic Datatypes:"
   ]
  },
  {
   "cell_type": "code",
   "execution_count": 6,
   "id": "e334fce9",
   "metadata": {
    "scrolled": true
   },
   "outputs": [
    {
     "name": "stdout",
     "output_type": "stream",
     "text": [
      "4\n",
      "3333333333333333\n",
      "1e+308\n",
      "inf <-------------------out of range\n"
     ]
    }
   ],
   "source": [
    "#integer\n",
    "print(4)\n",
    "print(3333333333333333)\n",
    "print(1e+308)\n",
    "print(1e+309,\"<-------------------out of range\")"
   ]
  },
  {
   "cell_type": "code",
   "execution_count": 9,
   "id": "43f7503b",
   "metadata": {},
   "outputs": [
    {
     "name": "stdout",
     "output_type": "stream",
     "text": [
      "3.5\n",
      "3.5555555555555554\n",
      "1e+308\n",
      "inf <-------------------out of range\n"
     ]
    }
   ],
   "source": [
    "#float\n",
    "print(3.5)\n",
    "print(3.5555555555555555)\n",
    "print(1e+308)\n",
    "print(1e+309,\"<-------------------out of range\")"
   ]
  },
  {
   "cell_type": "code",
   "execution_count": 12,
   "id": "64619508",
   "metadata": {},
   "outputs": [
    {
     "name": "stdout",
     "output_type": "stream",
     "text": [
      "(3+5j)\n",
      "(2+4j)\n"
     ]
    }
   ],
   "source": [
    "#complex\n",
    "a=3+5j\n",
    "print(a)\n",
    "print(2+4j)"
   ]
  },
  {
   "cell_type": "code",
   "execution_count": 14,
   "id": "b5837c58",
   "metadata": {},
   "outputs": [
    {
     "name": "stdout",
     "output_type": "stream",
     "text": [
      "True\n",
      "False\n"
     ]
    }
   ],
   "source": [
    "#boolean\n",
    "print(True)\n",
    "print(False)"
   ]
  },
  {
   "cell_type": "code",
   "execution_count": 15,
   "id": "824ea1e3",
   "metadata": {},
   "outputs": [
    {
     "name": "stdout",
     "output_type": "stream",
     "text": [
      "Indian Army\n",
      "Indian Army\n",
      "Indian Army\n"
     ]
    }
   ],
   "source": [
    "#string\n",
    "print('Indian Army')\n",
    "print(\"Indian Army\")\n",
    "print(\"\"\"Indian Army\"\"\")"
   ]
  },
  {
   "cell_type": "markdown",
   "id": "dee3eab5",
   "metadata": {},
   "source": [
    "# #Containers:"
   ]
  },
  {
   "cell_type": "code",
   "execution_count": 17,
   "id": "3590c9bf",
   "metadata": {},
   "outputs": [
    {
     "name": "stdout",
     "output_type": "stream",
     "text": [
      "[1, 2, 3, 4, 5]\n",
      "[1.1, 2.2, 3.3, 4.4, 5.5]\n",
      "[(1+2j), (2+3j), (3+5j), (4+6j), (5+7j)]\n",
      "['Ram', 'Laxman', 'Bharat', 'Shatrughan']\n",
      "[1, 'Ram', 2.3, (2+4j), True]\n"
     ]
    }
   ],
   "source": [
    "#list\n",
    "a = [1,2,3,4,5]\n",
    "print(a)\n",
    "\n",
    "a = [1.1,2.2,3.3,4.4,5.5]\n",
    "print(a)\n",
    "\n",
    "a = [1+2j,2+3j,3+5j,4+6j,5+7j]\n",
    "print(a)\n",
    "\n",
    "a = [\"Ram\",\"Laxman\",\"Bharat\",\"Shatrughan\"]\n",
    "print(a)\n",
    "\n",
    "a = [1,\"Ram\",2.3,2+4j,True]\n",
    "print(a)"
   ]
  },
  {
   "cell_type": "code",
   "execution_count": 21,
   "id": "5be982c2",
   "metadata": {},
   "outputs": [
    {
     "name": "stdout",
     "output_type": "stream",
     "text": [
      "(1, 2, 3)\n"
     ]
    }
   ],
   "source": [
    "#tuple\n",
    "a = (1,2,3)\n",
    "print(a)"
   ]
  },
  {
   "cell_type": "code",
   "execution_count": 22,
   "id": "2c884b38",
   "metadata": {},
   "outputs": [
    {
     "name": "stdout",
     "output_type": "stream",
     "text": [
      "{1, 2, 3, 4, 5}\n"
     ]
    }
   ],
   "source": [
    "#set\n",
    "a = {1,2,3,4,5}\n",
    "print(a)"
   ]
  },
  {
   "cell_type": "code",
   "execution_count": 33,
   "id": "67421265",
   "metadata": {},
   "outputs": [
    {
     "name": "stdout",
     "output_type": "stream",
     "text": [
      "{1: 'Ram', 2: 'Jyoti', 3: 'Sergio'}\n"
     ]
    }
   ],
   "source": [
    "#dict\n",
    "#  {key:value , key:value}\n",
    "#example  roll_no : name\n",
    "a = {1:\"Ram\",2:\"Jyoti\",3:\"Sergio\"}\n",
    "print(a)"
   ]
  }
 ],
 "metadata": {
  "kernelspec": {
   "display_name": "Python 3 (ipykernel)",
   "language": "python",
   "name": "python3"
  },
  "language_info": {
   "codemirror_mode": {
    "name": "ipython",
    "version": 3
   },
   "file_extension": ".py",
   "mimetype": "text/x-python",
   "name": "python",
   "nbconvert_exporter": "python",
   "pygments_lexer": "ipython3",
   "version": "3.10.9"
  }
 },
 "nbformat": 4,
 "nbformat_minor": 5
}
