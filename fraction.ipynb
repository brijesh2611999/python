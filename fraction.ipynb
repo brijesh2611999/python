{
 "cells": [
  {
   "cell_type": "code",
   "execution_count": 1,
   "id": "e1f823ea",
   "metadata": {},
   "outputs": [],
   "source": [
    "#!/usr/bin/env python\n",
    "# coding: utf-8\n",
    "\n",
    "# In[4]:\n",
    "\n",
    "\n",
    "class Fraction:\n",
    "    numerator = None\n",
    "    denominator = None\n",
    "    def __init__(self,x,y):\n",
    "        self.numerator = int(x)\n",
    "        self.denominator = int(y)\n",
    "    def __str__(self):\n",
    "        return '{0}/{1}'.format(self.numerator,self.denominator)\n",
    "    def __add__(self,other):\n",
    "        temp = self.numerator*other.denominator+self.denominator*other.numerator\n",
    "        temp1 = self.denominator*other.denominator\n",
    "        return '{0}/{1}'.format(temp,temp1)\n",
    "    def __sub__(self,other):\n",
    "        temp = self.numerator*other.denominator-self.denominator*other.numerator\n",
    "        temp1 = self.denominator*other.denominator\n",
    "        return '{0}/{1}'.format(temp,temp1)        \n",
    "    def __mul__(self,other):\n",
    "        temp = self.numerator*other.numerator\n",
    "        temp1 = self.denominator*other.denominator\n",
    "        return '{0}/{1}'.format(temp,temp1)        \n",
    "    def __truediv__(self,other):\n",
    "        temp = self.numerator*other.denominator\n",
    "        temp1 = self.denominator*other.numerator\n",
    "        return '{0}/{1}'.format(temp,temp1)        \n",
    "           \n",
    "\n",
    "\n",
    "# In[11]:\n",
    "\n",
    "\n",
    "\n",
    "\n"
   ]
  },
  {
   "cell_type": "code",
   "execution_count": 2,
   "id": "ee297d3d",
   "metadata": {},
   "outputs": [
    {
     "name": "stdout",
     "output_type": "stream",
     "text": [
      "3/4\n",
      "4/6\n",
      "34/24\n",
      "2/24\n",
      "12/24\n",
      "18/16\n"
     ]
    }
   ],
   "source": [
    "import fraction\n",
    "a = fraction.Fraction(3,4)\n",
    "print(a)\n",
    "b = fraction.Fraction(4,6)\n",
    "print(b)\n",
    "print(a+b)\n",
    "print(a-b)\n",
    "print(a*b)\n",
    "print(a/b)"
   ]
  },
  {
   "cell_type": "code",
   "execution_count": 3,
   "id": "d1576d26",
   "metadata": {},
   "outputs": [
    {
     "name": "stdout",
     "output_type": "stream",
     "text": [
      "<class 'fraction.Fraction'>\n",
      "3/4\n",
      "24/16\n"
     ]
    }
   ],
   "source": [
    "f1 = fraction.Fraction(3.4,4.5)\n",
    "print(type(f1))\n",
    "print(f1)\n",
    "print(a+f1)"
   ]
  },
  {
   "cell_type": "code",
   "execution_count": null,
   "id": "c5bd9e41",
   "metadata": {},
   "outputs": [],
   "source": [
    "# benefit of oops\n",
    "Ease of code\n",
    "modularity\n",
    "reuseability\n",
    "readability\n",
    "efficiency\n",
    "\n"
   ]
  }
 ],
 "metadata": {
  "kernelspec": {
   "display_name": "Python 3 (ipykernel)",
   "language": "python",
   "name": "python3"
  },
  "language_info": {
   "codemirror_mode": {
    "name": "ipython",
    "version": 3
   },
   "file_extension": ".py",
   "mimetype": "text/x-python",
   "name": "python",
   "nbconvert_exporter": "python",
   "pygments_lexer": "ipython3",
   "version": "3.10.9"
  }
 },
 "nbformat": 4,
 "nbformat_minor": 5
}
