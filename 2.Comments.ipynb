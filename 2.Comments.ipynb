{
 "cells": [
  {
   "cell_type": "markdown",
   "id": "1460b60f",
   "metadata": {},
   "source": [
    "# what is Comment ?\n",
    "1. A brief discription of the written code.\n",
    "2. it is not exeute by the complier.\n",
    "3. comment is used to explain code and it make it more readable.\n"
   ]
  },
  {
   "cell_type": "code",
   "execution_count": 6,
   "id": "410bf963",
   "metadata": {},
   "outputs": [
    {
     "data": {
      "text/plain": [
       "\"'this'\""
      ]
     },
     "execution_count": 6,
     "metadata": {},
     "output_type": "execute_result"
    }
   ],
   "source": [
    "#python provide only single line comment\n",
    "\n",
    "# this is comment section.\n",
    "# some editor provide the multiple line comment."
   ]
  }
 ],
 "metadata": {
  "kernelspec": {
   "display_name": "Python 3 (ipykernel)",
   "language": "python",
   "name": "python3"
  },
  "language_info": {
   "codemirror_mode": {
    "name": "ipython",
    "version": 3
   },
   "file_extension": ".py",
   "mimetype": "text/x-python",
   "name": "python",
   "nbconvert_exporter": "python",
   "pygments_lexer": "ipython3",
   "version": "3.10.9"
  }
 },
 "nbformat": 4,
 "nbformat_minor": 5
}
