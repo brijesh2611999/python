{
 "cells": [
  {
   "cell_type": "code",
   "execution_count": 13,
   "id": "dc41b5ef",
   "metadata": {},
   "outputs": [
    {
     "name": "stdout",
     "output_type": "stream",
     "text": [
      "this is demo file.\n"
     ]
    }
   ],
   "source": [
    "try:\n",
    "    f = open('hello.txt')\n",
    "    print(f.read())\n",
    "    f.close()\n",
    "except Exception:\n",
    "    print(\"this file does not exist\")"
   ]
  }
 ],
 "metadata": {
  "kernelspec": {
   "display_name": "Python 3 (ipykernel)",
   "language": "python",
   "name": "python3"
  },
  "language_info": {
   "codemirror_mode": {
    "name": "ipython",
    "version": 3
   },
   "file_extension": ".py",
   "mimetype": "text/x-python",
   "name": "python",
   "nbconvert_exporter": "python",
   "pygments_lexer": "ipython3",
   "version": "3.10.9"
  }
 },
 "nbformat": 4,
 "nbformat_minor": 5
}
