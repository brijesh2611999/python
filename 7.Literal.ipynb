{
 "cells": [
  {
   "cell_type": "markdown",
   "id": "b3149de3",
   "metadata": {},
   "source": [
    "#   # Literals\n",
    "   1.literals is a row data given in a variable.\n",
    "   "
   ]
  },
  {
   "cell_type": "markdown",
   "id": "fa0c25ba",
   "metadata": {},
   "source": [
    "#   type of literals -\n",
    "   1. Numeric\n",
    "   2. String\n",
    "   3. Boolean\n",
    "   4. Special "
   ]
  },
  {
   "cell_type": "markdown",
   "id": "47f157b6",
   "metadata": {},
   "source": [
    "# 1.Numeric literals-\n",
    "1. int\n",
    "2. float\n",
    "3. complex"
   ]
  },
  {
   "cell_type": "code",
   "execution_count": 2,
   "id": "5a0e56f0",
   "metadata": {},
   "outputs": [
    {
     "name": "stdout",
     "output_type": "stream",
     "text": [
      "10\n",
      "100\n",
      "200\n",
      "300\n"
     ]
    }
   ],
   "source": [
    "#int\n",
    "a = 0b1010     #binary\n",
    "b = 100        #integer     \n",
    "c = 0o310      #octal\n",
    "d = 0x12C      #hexadecimal\n",
    "print(a)\n",
    "print(b)\n",
    "print(c)\n",
    "print(d)"
   ]
  },
  {
   "cell_type": "code",
   "execution_count": 3,
   "id": "c2c02c85",
   "metadata": {},
   "outputs": [
    {
     "name": "stdout",
     "output_type": "stream",
     "text": [
      "2.7\n",
      "250.0\n",
      "0.0023\n"
     ]
    }
   ],
   "source": [
    "#float\n",
    "a = 2.7\n",
    "b = 2.5e2         # 2.5 *10^2\n",
    "c = 2.3e-3        #2.3 *10^-3\n",
    "print(a)\n",
    "print(b)\n",
    "print(c)\n"
   ]
  },
  {
   "cell_type": "code",
   "execution_count": 4,
   "id": "d1674714",
   "metadata": {},
   "outputs": [
    {
     "name": "stdout",
     "output_type": "stream",
     "text": [
      "(4+3j)\n"
     ]
    }
   ],
   "source": [
    "a = 4+3j\n",
    "print(a)"
   ]
  },
  {
   "cell_type": "markdown",
   "id": "f7b266dc",
   "metadata": {},
   "source": [
    "# 2. String"
   ]
  },
  {
   "cell_type": "code",
   "execution_count": 12,
   "id": "aa1ff5b4",
   "metadata": {},
   "outputs": [
    {
     "name": "stdout",
     "output_type": "stream",
     "text": [
      "hello this is a python\n",
      "hello this is a python\n",
      "aaaaaaaaaaaaaaaaaaaaaaaaaaaa\n",
      "aaaaaaaaaaaaaaaa\n",
      "aaaaaaaaaaaaaa\n",
      "😀\n",
      "😁\n"
     ]
    }
   ],
   "source": [
    "# s1 = \"hello this is a python\"\n",
    "s2 = 'hello this is a python'\n",
    "char = 'c'\n",
    "multiple_string = \"\"\"aaaaaaaaaaaaaaaaaaaaaaaaaaaa\n",
    "aaaaaaaaaaaaaaaa\n",
    "aaaaaaaaaaaaaa\"\"\"\n",
    "\n",
    "unicode = u\"\\U0001f600\"\n",
    "unicode1 =u\"\\U0001f601\" \n",
    "print(s1)\n",
    "print(s2)\n",
    "print(multiple_string)\n",
    "print(unicode)\n",
    "print(unicode1)"
   ]
  },
  {
   "cell_type": "markdown",
   "id": "1dbcba27",
   "metadata": {},
   "source": [
    "# 3. Boolean"
   ]
  },
  {
   "cell_type": "code",
   "execution_count": 13,
   "id": "68b4524b",
   "metadata": {},
   "outputs": [
    {
     "name": "stdout",
     "output_type": "stream",
     "text": [
      "5\n",
      "5\n"
     ]
    }
   ],
   "source": [
    "a = True + 4\n",
    "print(a)\n",
    "b = False + 5\n",
    "print(b)"
   ]
  },
  {
   "cell_type": "markdown",
   "id": "72783a53",
   "metadata": {},
   "source": [
    "# 4.Special"
   ]
  },
  {
   "cell_type": "code",
   "execution_count": 14,
   "id": "e9541cc3",
   "metadata": {},
   "outputs": [
    {
     "name": "stdout",
     "output_type": "stream",
     "text": [
      "None\n"
     ]
    }
   ],
   "source": [
    "a = None\n",
    "print(a)"
   ]
  }
 ],
 "metadata": {
  "kernelspec": {
   "display_name": "Python 3 (ipykernel)",
   "language": "python",
   "name": "python3"
  },
  "language_info": {
   "codemirror_mode": {
    "name": "ipython",
    "version": 3
   },
   "file_extension": ".py",
   "mimetype": "text/x-python",
   "name": "python",
   "nbconvert_exporter": "python",
   "pygments_lexer": "ipython3",
   "version": "3.10.9"
  }
 },
 "nbformat": 4,
 "nbformat_minor": 5
}
