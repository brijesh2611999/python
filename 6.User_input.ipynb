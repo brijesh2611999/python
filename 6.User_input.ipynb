{
 "cells": [
  {
   "cell_type": "markdown",
   "id": "faa147bb",
   "metadata": {},
   "source": [
    "# User input\n",
    "default user input store in string format."
   ]
  },
  {
   "cell_type": "code",
   "execution_count": 4,
   "id": "5f891e79",
   "metadata": {},
   "outputs": [
    {
     "name": "stdout",
     "output_type": "stream",
     "text": [
      "Harry potter\n"
     ]
    },
    {
     "data": {
      "text/plain": [
       "str"
      ]
     },
     "execution_count": 4,
     "metadata": {},
     "output_type": "execute_result"
    }
   ],
   "source": [
    "first_name = input()\n",
    "type(first_name)"
   ]
  },
  {
   "cell_type": "code",
   "execution_count": 2,
   "id": "b8f828cf",
   "metadata": {},
   "outputs": [
    {
     "name": "stdout",
     "output_type": "stream",
     "text": [
      "enter your name :Harmonie\n"
     ]
    }
   ],
   "source": [
    "first_name = input(\"enter your name :\")"
   ]
  },
  {
   "cell_type": "code",
   "execution_count": 3,
   "id": "02aaec7e",
   "metadata": {},
   "outputs": [
    {
     "name": "stdout",
     "output_type": "stream",
     "text": [
      "Harry \n",
      "potter\n",
      "Harry potter\n"
     ]
    }
   ],
   "source": [
    "first_name = input()\n",
    "last_name = input()\n",
    "print(first_name + last_name)"
   ]
  },
  {
   "cell_type": "code",
   "execution_count": 5,
   "id": "443d8e64",
   "metadata": {},
   "outputs": [
    {
     "name": "stdout",
     "output_type": "stream",
     "text": [
      "enter a number :45\n",
      "45\n"
     ]
    },
    {
     "data": {
      "text/plain": [
       "str"
      ]
     },
     "execution_count": 5,
     "metadata": {},
     "output_type": "execute_result"
    }
   ],
   "source": [
    "num = input(\"enter a number :\")\n",
    "print(num)\n",
    "type(num)\n",
    "# here if we want to store a integer than it store as string format.\n",
    "# how we store integer,float.\n",
    "# let us we discuss."
   ]
  },
  {
   "cell_type": "code",
   "execution_count": 6,
   "id": "2600858e",
   "metadata": {},
   "outputs": [
    {
     "name": "stdout",
     "output_type": "stream",
     "text": [
      "enter a number :45\n",
      "45\n"
     ]
    },
    {
     "data": {
      "text/plain": [
       "int"
      ]
     },
     "execution_count": 6,
     "metadata": {},
     "output_type": "execute_result"
    }
   ],
   "source": [
    "num = int(input(\"enter a number :\"))\n",
    "print(num)\n",
    "type(num)"
   ]
  },
  {
   "cell_type": "code",
   "execution_count": 7,
   "id": "cf16ff95",
   "metadata": {},
   "outputs": [
    {
     "name": "stdout",
     "output_type": "stream",
     "text": [
      "enter a number :45.5\n",
      "45.5\n"
     ]
    },
    {
     "data": {
      "text/plain": [
       "float"
      ]
     },
     "execution_count": 7,
     "metadata": {},
     "output_type": "execute_result"
    }
   ],
   "source": [
    "num = float(input(\"enter a number :\"))\n",
    "print(num)\n",
    "type(num)"
   ]
  },
  {
   "cell_type": "code",
   "execution_count": 8,
   "id": "0993572d",
   "metadata": {},
   "outputs": [
    {
     "name": "stdout",
     "output_type": "stream",
     "text": [
      "enter a number :4+6j\n",
      "(4+6j)\n"
     ]
    },
    {
     "data": {
      "text/plain": [
       "complex"
      ]
     },
     "execution_count": 8,
     "metadata": {},
     "output_type": "execute_result"
    }
   ],
   "source": [
    "num = complex(input(\"enter a number :\"))\n",
    "print(num)\n",
    "type(num)"
   ]
  },
  {
   "cell_type": "markdown",
   "id": "929103fc",
   "metadata": {},
   "source": [
    "# type_casting"
   ]
  },
  {
   "cell_type": "code",
   "execution_count": 10,
   "id": "ec1c5149",
   "metadata": {},
   "outputs": [
    {
     "data": {
      "text/plain": [
       "7.5"
      ]
     },
     "execution_count": 10,
     "metadata": {},
     "output_type": "execute_result"
    }
   ],
   "source": [
    "4+3.5"
   ]
  },
  {
   "cell_type": "code",
   "execution_count": 11,
   "id": "0df516eb",
   "metadata": {},
   "outputs": [
    {
     "ename": "NameError",
     "evalue": "name 'j' is not defined",
     "output_type": "error",
     "traceback": [
      "\u001b[1;31m---------------------------------------------------------------------------\u001b[0m",
      "\u001b[1;31mNameError\u001b[0m                                 Traceback (most recent call last)",
      "Cell \u001b[1;32mIn[11], line 1\u001b[0m\n\u001b[1;32m----> 1\u001b[0m \u001b[38;5;241m4\u001b[39m\u001b[38;5;241m+\u001b[39m\u001b[38;5;241m4\u001b[39m\u001b[38;5;241m+\u001b[39m\u001b[43mj\u001b[49m\n",
      "\u001b[1;31mNameError\u001b[0m: name 'j' is not defined"
     ]
    }
   ],
   "source": [
    "4+4+j"
   ]
  },
  {
   "cell_type": "code",
   "execution_count": 13,
   "id": "9da479ba",
   "metadata": {},
   "outputs": [
    {
     "data": {
      "text/plain": [
       "(8+1j)"
      ]
     },
     "execution_count": 13,
     "metadata": {},
     "output_type": "execute_result"
    }
   ],
   "source": [
    " 4+4+1j"
   ]
  },
  {
   "cell_type": "code",
   "execution_count": 15,
   "id": "d6829670",
   "metadata": {},
   "outputs": [
    {
     "data": {
      "text/plain": [
       "(9.5+2j)"
      ]
     },
     "execution_count": 15,
     "metadata": {},
     "output_type": "execute_result"
    }
   ],
   "source": [
    "4.5+5+2j"
   ]
  },
  {
   "cell_type": "code",
   "execution_count": 16,
   "id": "2eb3cf4b",
   "metadata": {},
   "outputs": [
    {
     "name": "stdout",
     "output_type": "stream",
     "text": [
      "9\n"
     ]
    }
   ],
   "source": [
    "num = 9.5\n",
    "print(int(num))"
   ]
  },
  {
   "cell_type": "code",
   "execution_count": null,
   "id": "5de9a84b",
   "metadata": {},
   "outputs": [],
   "source": []
  }
 ],
 "metadata": {
  "kernelspec": {
   "display_name": "Python 3 (ipykernel)",
   "language": "python",
   "name": "python3"
  },
  "language_info": {
   "codemirror_mode": {
    "name": "ipython",
    "version": 3
   },
   "file_extension": ".py",
   "mimetype": "text/x-python",
   "name": "python",
   "nbconvert_exporter": "python",
   "pygments_lexer": "ipython3",
   "version": "3.10.9"
  }
 },
 "nbformat": 4,
 "nbformat_minor": 5
}
