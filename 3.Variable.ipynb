{
 "cells": [
  {
   "cell_type": "markdown",
   "id": "a978a5e1",
   "metadata": {},
   "source": [
    "# Variable\n",
    "variable is a container.\n"
   ]
  },
  {
   "cell_type": "code",
   "execution_count": null,
   "id": "c8c01abf",
   "metadata": {},
   "outputs": [],
   "source": [
    "# C language\n",
    "# int a;\n",
    "# a=5\n",
    "# here we can store only integer value in a variable.\n",
    "# a = 6\n",
    "# this is called static binding because it is already declared that a variable can store only integer value."
   ]
  },
  {
   "cell_type": "code",
   "execution_count": 4,
   "id": "baab1ad2",
   "metadata": {},
   "outputs": [
    {
     "name": "stdout",
     "output_type": "stream",
     "text": [
      "3\n",
      "3.4\n",
      "Ram\n"
     ]
    }
   ],
   "source": [
    "# python\n",
    "a = 3\n",
    "print(a)\n",
    "a = 3.4\n",
    "print(a)\n",
    "a = 'Ram'\n",
    "print(a)\n",
    "\n",
    "#this is called dynamic binding because it is not define which type of value store in a variable."
   ]
  }
 ],
 "metadata": {
  "kernelspec": {
   "display_name": "Python 3 (ipykernel)",
   "language": "python",
   "name": "python3"
  },
  "language_info": {
   "codemirror_mode": {
    "name": "ipython",
    "version": 3
   },
   "file_extension": ".py",
   "mimetype": "text/x-python",
   "name": "python",
   "nbconvert_exporter": "python",
   "pygments_lexer": "ipython3",
   "version": "3.10.9"
  }
 },
 "nbformat": 4,
 "nbformat_minor": 5
}
