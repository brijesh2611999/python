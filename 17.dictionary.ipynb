{
 "cells": [
  {
   "cell_type": "markdown",
   "id": "a85c6662",
   "metadata": {},
   "source": [
    "# dictionary\n",
    "- it is immutable type\n",
    "- key always immutable and value may be or not.\n",
    "- key should be unique.\n",
    "- no indexing."
   ]
  },
  {
   "cell_type": "markdown",
   "id": "9671ae02",
   "metadata": {},
   "source": [
    "# mutable-\n",
    "- list / set / dictionary"
   ]
  },
  {
   "cell_type": "markdown",
   "id": "6f3a3c42",
   "metadata": {},
   "source": [
    "# immutable-\n",
    "- string / tuple / int / float / complex "
   ]
  },
  {
   "cell_type": "code",
   "execution_count": 3,
   "id": "fcdbaaf2",
   "metadata": {},
   "outputs": [
    {
     "data": {
      "text/plain": [
       "{'Name': 'Ram', 'Gender': 'Male'}"
      ]
     },
     "execution_count": 3,
     "metadata": {},
     "output_type": "execute_result"
    }
   ],
   "source": [
    "{\"Name\":\"Ram\",\"Gender\":\"Male\"}"
   ]
  },
  {
   "cell_type": "code",
   "execution_count": 5,
   "id": "54c997de",
   "metadata": {},
   "outputs": [
    {
     "data": {
      "text/plain": [
       "dict"
      ]
     },
     "execution_count": 5,
     "metadata": {},
     "output_type": "execute_result"
    }
   ],
   "source": [
    "# empty dictionary\n",
    "d = {}\n",
    "type(d)"
   ]
  },
  {
   "cell_type": "code",
   "execution_count": 6,
   "id": "57f89c12",
   "metadata": {},
   "outputs": [
    {
     "name": "stdout",
     "output_type": "stream",
     "text": [
      "{'Name': 'Ram', 'Gender': 'Male'}\n"
     ]
    }
   ],
   "source": [
    "d = {\"Name\":\"Ram\",\"Gender\":\"Male\"}\n",
    "print(d)"
   ]
  },
  {
   "cell_type": "code",
   "execution_count": 7,
   "id": "b7cd6d7e",
   "metadata": {},
   "outputs": [
    {
     "name": "stdout",
     "output_type": "stream",
     "text": [
      "{'Name': 'Laxman'}\n"
     ]
    }
   ],
   "source": [
    "# key should be unique\n",
    "d = {\"Name\":\"Ram\",\"Name\": \"Laxman\"}\n",
    "print(d)"
   ]
  },
  {
   "cell_type": "code",
   "execution_count": 14,
   "id": "048b9e38",
   "metadata": {},
   "outputs": [
    {
     "name": "stdout",
     "output_type": "stream",
     "text": [
      "{'Name': 'Rahul', 'sub': {'c': '12', 'c++': '23', 'java': '45'}}\n"
     ]
    }
   ],
   "source": [
    "# nested dictionary\n",
    "d = {\"Name\":\"Rahul\",\"sub\":{'c':\"12\",'c++':\"23\",'java':\"45\"}}\n",
    "print(d)"
   ]
  },
  {
   "cell_type": "code",
   "execution_count": 9,
   "id": "bd015e1b",
   "metadata": {},
   "outputs": [
    {
     "ename": "KeyError",
     "evalue": "0",
     "output_type": "error",
     "traceback": [
      "\u001b[1;31m---------------------------------------------------------------------------\u001b[0m",
      "\u001b[1;31mKeyError\u001b[0m                                  Traceback (most recent call last)",
      "Cell \u001b[1;32mIn[9], line 1\u001b[0m\n\u001b[1;32m----> 1\u001b[0m \u001b[38;5;28mprint\u001b[39m(\u001b[43md\u001b[49m\u001b[43m[\u001b[49m\u001b[38;5;241;43m0\u001b[39;49m\u001b[43m]\u001b[49m)\n",
      "\u001b[1;31mKeyError\u001b[0m: 0"
     ]
    }
   ],
   "source": [
    "# no indexing\n",
    "print(d[0])"
   ]
  },
  {
   "cell_type": "code",
   "execution_count": 17,
   "id": "43d642ca",
   "metadata": {},
   "outputs": [
    {
     "name": "stdout",
     "output_type": "stream",
     "text": [
      "Rahul\n",
      "Rahul\n"
     ]
    }
   ],
   "source": [
    "print(d[\"Name\"])\n",
    "print(d.get(\"Name\"))"
   ]
  },
  {
   "cell_type": "code",
   "execution_count": 15,
   "id": "63034c97",
   "metadata": {},
   "outputs": [
    {
     "data": {
      "text/plain": [
       "'12'"
      ]
     },
     "execution_count": 15,
     "metadata": {},
     "output_type": "execute_result"
    }
   ],
   "source": [
    "# Access 2d dictionary\n",
    "d[\"sub\"]['c']"
   ]
  },
  {
   "cell_type": "code",
   "execution_count": 19,
   "id": "35e7c324",
   "metadata": {},
   "outputs": [
    {
     "name": "stdout",
     "output_type": "stream",
     "text": [
      "56\n"
     ]
    }
   ],
   "source": [
    "# edit\n",
    "d[\"sub\"]['c'] = \"56\"\n",
    "print(d[\"sub\"]['c'])"
   ]
  },
  {
   "cell_type": "code",
   "execution_count": 21,
   "id": "04f385b8",
   "metadata": {},
   "outputs": [
    {
     "name": "stdout",
     "output_type": "stream",
     "text": [
      "{'Name': 'Rahul', 'sub': {'c': '56', 'c++': '23', 'java': '45'}}\n"
     ]
    },
    {
     "ename": "NameError",
     "evalue": "name 'd' is not defined",
     "output_type": "error",
     "traceback": [
      "\u001b[1;31m---------------------------------------------------------------------------\u001b[0m",
      "\u001b[1;31mNameError\u001b[0m                                 Traceback (most recent call last)",
      "Cell \u001b[1;32mIn[21], line 4\u001b[0m\n\u001b[0;32m      2\u001b[0m \u001b[38;5;28mprint\u001b[39m(d)\n\u001b[0;32m      3\u001b[0m \u001b[38;5;28;01mdel\u001b[39;00m d\n\u001b[1;32m----> 4\u001b[0m \u001b[38;5;28mprint\u001b[39m(\u001b[43md\u001b[49m)\n",
      "\u001b[1;31mNameError\u001b[0m: name 'd' is not defined"
     ]
    }
   ],
   "source": [
    "# how to delete\n",
    "print(d)\n",
    "del d\n",
    "print(d)"
   ]
  },
  {
   "cell_type": "code",
   "execution_count": 26,
   "id": "a13a66d5",
   "metadata": {},
   "outputs": [
    {
     "name": "stdout",
     "output_type": "stream",
     "text": [
      "{1: 'Ram', 2: 'kris'}\n",
      "{2: 'kris'}\n"
     ]
    }
   ],
   "source": [
    "# delte individual item\n",
    "d = {1:\"Ram\",2:\"kris\"}\n",
    "print(d)\n",
    "del d[1]\n",
    "print(d)"
   ]
  },
  {
   "cell_type": "code",
   "execution_count": 29,
   "id": "3eec24c9",
   "metadata": {},
   "outputs": [
    {
     "name": "stdout",
     "output_type": "stream",
     "text": [
      "True\n",
      "False\n"
     ]
    }
   ],
   "source": [
    "# membership operator\n",
    "d = {1:\"Ram\",2:\"kris\"}\n",
    "print(1 in d)\n",
    "print(\"ram\" in d)  # it search only key item"
   ]
  },
  {
   "cell_type": "code",
   "execution_count": 32,
   "id": "051d12f0",
   "metadata": {},
   "outputs": [
    {
     "name": "stdout",
     "output_type": "stream",
     "text": [
      "{11: 'Ram', 2: 'kris'}\n",
      "[2, 11]\n",
      "[11, 2]\n"
     ]
    }
   ],
   "source": [
    "d = {11:\"Ram\",2:\"kris\"}\n",
    "print(d)\n",
    "print(sorted(d))\n",
    "print(sorted(d,reverse = True))"
   ]
  }
 ],
 "metadata": {
  "kernelspec": {
   "display_name": "Python 3 (ipykernel)",
   "language": "python",
   "name": "python3"
  },
  "language_info": {
   "codemirror_mode": {
    "name": "ipython",
    "version": 3
   },
   "file_extension": ".py",
   "mimetype": "text/x-python",
   "name": "python",
   "nbconvert_exporter": "python",
   "pygments_lexer": "ipython3",
   "version": "3.10.9"
  }
 },
 "nbformat": 4,
 "nbformat_minor": 5
}
