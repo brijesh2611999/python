{
 "cells": [
  {
   "cell_type": "markdown",
   "id": "a6780fc9",
   "metadata": {},
   "source": [
    "# Tuple\n",
    "- tuple is read-only data type.\n",
    "- difference b/w list and tuple is tuple is immutable datatype, we can't edit item in tuple.\n",
    "- [] list  ( ) tuple"
   ]
  },
  {
   "cell_type": "code",
   "execution_count": 1,
   "id": "58f2082f",
   "metadata": {},
   "outputs": [
    {
     "data": {
      "text/plain": [
       "tuple"
      ]
     },
     "execution_count": 1,
     "metadata": {},
     "output_type": "execute_result"
    }
   ],
   "source": [
    "# empty tuple\n",
    "t1 = ()\n",
    "type(t1)"
   ]
  },
  {
   "cell_type": "code",
   "execution_count": 4,
   "id": "addc8a82",
   "metadata": {},
   "outputs": [
    {
     "name": "stdout",
     "output_type": "stream",
     "text": [
      "(1, 2, 3, 4)\n"
     ]
    }
   ],
   "source": [
    "# homogenious tuple\n",
    "t1 = (1,2,3,4)\n",
    "print(t1)"
   ]
  },
  {
   "cell_type": "code",
   "execution_count": 5,
   "id": "08b87f0c",
   "metadata": {},
   "outputs": [
    {
     "name": "stdout",
     "output_type": "stream",
     "text": [
      "(1, 2.3, 'ram')\n"
     ]
    }
   ],
   "source": [
    "# hetrogenious tuple\n",
    "t1 = ( 1,2.3,\"ram\")\n",
    "print(t1)"
   ]
  },
  {
   "cell_type": "code",
   "execution_count": 7,
   "id": "6aec682d",
   "metadata": {},
   "outputs": [
    {
     "name": "stdout",
     "output_type": "stream",
     "text": [
      "<class 'int'>\n",
      "<class 'tuple'>\n"
     ]
    }
   ],
   "source": [
    "# single item tuple create\n",
    "t1 = (1)\n",
    "print(type(t1))\n",
    "\n",
    "t1 = (1,)\n",
    "print(type(t1))"
   ]
  },
  {
   "cell_type": "code",
   "execution_count": 9,
   "id": "93dd329c",
   "metadata": {},
   "outputs": [
    {
     "name": "stdout",
     "output_type": "stream",
     "text": [
      "(1, 2, 3, 4)\n"
     ]
    }
   ],
   "source": [
    "t1 = tuple([1,2,3,4])\n",
    "print(t1)"
   ]
  },
  {
   "cell_type": "code",
   "execution_count": 11,
   "id": "b206660a",
   "metadata": {},
   "outputs": [
    {
     "name": "stdout",
     "output_type": "stream",
     "text": [
      "(1, 2, 3, 4)\n"
     ]
    },
    {
     "ename": "TypeError",
     "evalue": "'tuple' object does not support item assignment",
     "output_type": "error",
     "traceback": [
      "\u001b[1;31m---------------------------------------------------------------------------\u001b[0m",
      "\u001b[1;31mTypeError\u001b[0m                                 Traceback (most recent call last)",
      "Cell \u001b[1;32mIn[11], line 4\u001b[0m\n\u001b[0;32m      2\u001b[0m t1 \u001b[38;5;241m=\u001b[39m (\u001b[38;5;241m1\u001b[39m,\u001b[38;5;241m2\u001b[39m,\u001b[38;5;241m3\u001b[39m,\u001b[38;5;241m4\u001b[39m)\n\u001b[0;32m      3\u001b[0m \u001b[38;5;28mprint\u001b[39m(t1)\n\u001b[1;32m----> 4\u001b[0m t1[\u001b[38;5;241m0\u001b[39m] \u001b[38;5;241m=\u001b[39m \u001b[38;5;241m100\u001b[39m\n",
      "\u001b[1;31mTypeError\u001b[0m: 'tuple' object does not support item assignment"
     ]
    }
   ],
   "source": [
    "# tuple just like string are immutable\n",
    "t1 = (1,2,3,4)\n",
    "print(t1)\n",
    "t1[0] = 100 # we can't edit in tuple"
   ]
  },
  {
   "cell_type": "code",
   "execution_count": 19,
   "id": "5d4dbdc5",
   "metadata": {},
   "outputs": [
    {
     "name": "stdout",
     "output_type": "stream",
     "text": [
      "(1, 12, 3, 4, 3, 4, 5)\n",
      "(1, 12, 3, 4, 1, 12, 3, 4, 1, 12, 3, 4, 1, 12, 3, 4)\n",
      "4\n",
      "12\n",
      "1\n",
      "[1, 3, 4, 12]\n",
      "[12, 4, 3, 1]\n"
     ]
    }
   ],
   "source": [
    "# operation\n",
    "\n",
    "\n",
    "t1 = (1,12,3,4)\n",
    "t2 = (3,4,5)\n",
    "print(t1+t2)\n",
    "print(t1*4)\n",
    "print(len(t1))\n",
    "print(max(t1))\n",
    "print(min(t1))\n",
    "print(sorted(t1))\n",
    "print(sorted(t1,reverse = True))"
   ]
  },
  {
   "cell_type": "code",
   "execution_count": null,
   "id": "9eee8655",
   "metadata": {},
   "outputs": [],
   "source": []
  }
 ],
 "metadata": {
  "kernelspec": {
   "display_name": "Python 3 (ipykernel)",
   "language": "python",
   "name": "python3"
  },
  "language_info": {
   "codemirror_mode": {
    "name": "ipython",
    "version": 3
   },
   "file_extension": ".py",
   "mimetype": "text/x-python",
   "name": "python",
   "nbconvert_exporter": "python",
   "pygments_lexer": "ipython3",
   "version": "3.10.9"
  }
 },
 "nbformat": 4,
 "nbformat_minor": 5
}
