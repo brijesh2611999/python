{
 "cells": [
  {
   "cell_type": "code",
   "execution_count": 5,
   "id": "1208a1e9",
   "metadata": {},
   "outputs": [],
   "source": [
    "class Atm:\n",
    "    pin = None\n",
    "    balance = 0\n",
    "    def activatecard(self):\n",
    "        print(\"Hi,Welcome to ICICI bank....\")\n",
    "        self.pin = input(\"Enter your 4 digit pin :\")\n",
    "        print(\"Congrats,your pin successfully created...\")\n",
    "    def checkbalance(self):\n",
    "        temp = input(\"Enter your 4-digit pin :\")\n",
    "        if self.pin == temp :\n",
    "            print(\"your current balance :\",self.balance)\n",
    "        else:\n",
    "            print(\"Incorrect pin \")\n",
    "    def deposit(self):\n",
    "        temp = input(\"Enter your 4-digit pin :\")\n",
    "        if self.pin == temp :\n",
    "            amount = float(input(\"Enter the amount :\"))\n",
    "            self.balance += amount\n",
    "        else:\n",
    "            print(\"Incorrect pin\")\n",
    "    def withdrawal(self):\n",
    "        temp = input(\"Enter your 4-digit pin :\")\n",
    "        if self.pin == temp :\n",
    "            amount = float(input(\"Enter the amount :\"))\n",
    "            if self.balance <= amount:\n",
    "                self.balance -= amount\n",
    "            else:\n",
    "                print(\"Insufficient balance \")\n",
    "        else:\n",
    "            print(\"Incorrect pin\")"
   ]
  }
 ],
 "metadata": {
  "kernelspec": {
   "display_name": "Python 3 (ipykernel)",
   "language": "python",
   "name": "python3"
  },
  "language_info": {
   "codemirror_mode": {
    "name": "ipython",
    "version": 3
   },
   "file_extension": ".py",
   "mimetype": "text/x-python",
   "name": "python",
   "nbconvert_exporter": "python",
   "pygments_lexer": "ipython3",
   "version": "3.10.9"
  }
 },
 "nbformat": 4,
 "nbformat_minor": 5
}
