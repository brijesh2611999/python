{
 "cells": [
  {
   "cell_type": "code",
   "execution_count": 1,
   "id": "01abece2",
   "metadata": {},
   "outputs": [
    {
     "name": "stdout",
     "output_type": "stream",
     "text": [
      "Brijesh\n"
     ]
    }
   ],
   "source": [
    "print(\"Brijesh\")"
   ]
  },
  {
   "cell_type": "code",
   "execution_count": 2,
   "id": "07077ea7",
   "metadata": {},
   "outputs": [
    {
     "name": "stdout",
     "output_type": "stream",
     "text": [
      "4\n"
     ]
    }
   ],
   "source": [
    "print(4)"
   ]
  },
  {
   "cell_type": "code",
   "execution_count": 3,
   "id": "97aaad31",
   "metadata": {},
   "outputs": [
    {
     "name": "stdout",
     "output_type": "stream",
     "text": [
      "5.6\n"
     ]
    }
   ],
   "source": [
    "print(5.6)"
   ]
  },
  {
   "cell_type": "code",
   "execution_count": 7,
   "id": "7f30acca",
   "metadata": {},
   "outputs": [
    {
     "name": "stdout",
     "output_type": "stream",
     "text": [
      "True\n",
      "False\n"
     ]
    }
   ],
   "source": [
    "print(True)\n",
    "print(False)"
   ]
  },
  {
   "cell_type": "code",
   "execution_count": 15,
   "id": "51609b54",
   "metadata": {},
   "outputs": [],
   "source": [
    "# properties of print()\n",
    "# print(value,sep = ' ',end = '\\n',file=sys.stdout,flash=False)"
   ]
  },
  {
   "cell_type": "code",
   "execution_count": 16,
   "id": "d06938d7",
   "metadata": {},
   "outputs": [
    {
     "name": "stdout",
     "output_type": "stream",
     "text": [
      "India Nepal Yaman\n"
     ]
    }
   ],
   "source": [
    "print(\"India\",\"Nepal\",\"Yaman\")"
   ]
  },
  {
   "cell_type": "code",
   "execution_count": 17,
   "id": "d62e6778",
   "metadata": {},
   "outputs": [
    {
     "name": "stdout",
     "output_type": "stream",
     "text": [
      "India/Nepal/Yaman\n"
     ]
    }
   ],
   "source": [
    "print(\"India\",\"Nepal\",\"Yaman\",sep='/')"
   ]
  },
  {
   "cell_type": "code",
   "execution_count": 18,
   "id": "36b67145",
   "metadata": {},
   "outputs": [
    {
     "name": "stdout",
     "output_type": "stream",
     "text": [
      "India-Nepal-Yaman\n"
     ]
    }
   ],
   "source": [
    "print(\"India\",\"Nepal\",\"Yaman\",sep='-')"
   ]
  },
  {
   "cell_type": "code",
   "execution_count": 19,
   "id": "4ff3fc64",
   "metadata": {},
   "outputs": [
    {
     "name": "stdout",
     "output_type": "stream",
     "text": [
      "India/Nepal/Yaman/4/5/6/True\n"
     ]
    }
   ],
   "source": [
    "print(\"India\",\"Nepal\",\"Yaman\",4,5,6,True,sep='/')"
   ]
  },
  {
   "cell_type": "code",
   "execution_count": 20,
   "id": "041545d8",
   "metadata": {},
   "outputs": [
    {
     "name": "stdout",
     "output_type": "stream",
     "text": [
      "Indian\n",
      "Army\n"
     ]
    }
   ],
   "source": [
    "# if we write two print statment then next print statement come into new line\n",
    "print(\"Indian\")\n",
    "print(\"Army\")"
   ]
  },
  {
   "cell_type": "code",
   "execution_count": 25,
   "id": "e73422c5",
   "metadata": {},
   "outputs": [
    {
     "name": "stdout",
     "output_type": "stream",
     "text": [
      "Indian Army\n"
     ]
    }
   ],
   "source": [
    "print(\"Indian\",end=' ')\n",
    "print(\"Army\")"
   ]
  }
 ],
 "metadata": {
  "kernelspec": {
   "display_name": "Python 3 (ipykernel)",
   "language": "python",
   "name": "python3"
  },
  "language_info": {
   "codemirror_mode": {
    "name": "ipython",
    "version": 3
   },
   "file_extension": ".py",
   "mimetype": "text/x-python",
   "name": "python",
   "nbconvert_exporter": "python",
   "pygments_lexer": "ipython3",
   "version": "3.10.9"
  }
 },
 "nbformat": 4,
 "nbformat_minor": 5
}
